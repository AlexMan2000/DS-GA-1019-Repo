{
 "cells": [
  {
   "cell_type": "markdown",
   "metadata": {
    "id": "h1l5sztJPK0w"
   },
   "source": [
    "## Lecture 6  Part 1\n",
    "## Introduction to Numba\n",
    "### Feb. 28, 2024"
   ]
  },
  {
   "cell_type": "markdown",
   "metadata": {
    "id": "J5O7oXLNPK0x"
   },
   "source": [
    "## Reminder\n",
    "\n",
    "**Before next week**: send me email with 5 members of your project group!\n",
    "\n",
    "**Next week**: project proposal presentations (likely remote only), 5 min for each group (+ a few min for questions)"
   ]
  },
  {
   "cell_type": "markdown",
   "metadata": {
    "id": "CmS7c0mdPK0y",
    "slideshow": {
     "slide_type": "-"
    }
   },
   "source": [
    "Part of this lecture is based on the material: \n",
    "\n",
    "see [https://nyu-cds.github.io/python-numba/](https://nyu-cds.github.io/python-numba/)\n",
    "\n",
    "You will need the Numba package for this lecture (anaconda already installed it): \n",
    "\n",
    "[https://anaconda.org/numba/numba](https://anaconda.org/numba/numba)"
   ]
  },
  {
   "cell_type": "markdown",
   "metadata": {
    "id": "HXsC_GXNPK0y"
   },
   "source": [
    "### Introduction to Numba\n",
    "\n",
    "----\n",
    "- Numba provides the ability to speed up applications with high performance functions written directly in Python, rather than using language extensions such as Cython.\n",
    "\n",
    "- Numba allows the compilation of selected portions of pure Python code to native code, and generates optimized machine code.\n",
    "\n",
    "- With a few simple annotations, array-oriented and math-heavy Python code can be **just-in-time (JIT)** optimized to achieve performance similar to C and C++, without having to switch languages or Python interpreters.\n",
    "\n",
    "- **just-in-time (JIT)**: is complition of code during execution of a program (at run-time) rather than before execution.\n",
    "\n",
    "Numba’s main features are:\n",
    "\n",
    "- On-the-fly code generation (at import time or runtime, at the user’s preference):(Modified code while it is running, without stopping or restarting).  \n",
    "- Native code generation for the CPU (default) and GPU hardware  \n",
    "- Integration with the Python scientific software stack (thanks to NumPy)\n",
    "\n"
   ]
  },
  {
   "cell_type": "markdown",
   "metadata": {},
   "source": [
    "**Numba**: \n",
    "- is a just-in-time compiler for Python that works best on code that uses NumPy arrays and functions, and loops. \n",
    "- The most common way to use Numba is through its collection of decorators that can be applied to your functions to instruct Numba to compile them. When a call is made to a Numba decorated function it is compiled to machine code “just-in-time” for execution and all or part of your code can subsequently run at native machine code speed!\n"
   ]
  },
  {
   "cell_type": "markdown",
   "metadata": {
    "id": "J3E35He8PK0y"
   },
   "source": [
    "\n",
    "- Numba’s central feature/most fundamental is the **numba.jit()** decorator (take a moment to recap function decoration we learned before), which marks a function for optimization by Numba’s JIT compiler.\n",
    "\n",
    "- If your code is numerically orientated (does a lot of math), uses NumPy a lot and/or has a lot of loops, then Numba is often a good choice. (It won’t work very well, if at all, if you code uses Pandas).\n",
    "\n",
    "Lets start with a simple example:"
   ]
  },
  {
   "cell_type": "code",
   "execution_count": 3,
   "metadata": {
    "executionInfo": {
     "elapsed": 320,
     "status": "ok",
     "timestamp": 1677596699319,
     "user": {
      "displayName": "Yijun Tang",
      "userId": "15094714110312648400"
     },
     "user_tz": 300
    },
    "id": "kU0ggq18PK0z"
   },
   "outputs": [],
   "source": [
    "#First we’ll create an array of sorted values and randomly shuffle them.\n",
    "import numpy as np\n",
    "\n",
    "# an array of 1000 floats 0.0 to 9.99\n",
    "original_array = np.arange(0.0, 10.0, 0.01, dtype='float')\n",
    "#print(original_array)"
   ]
  },
  {
   "cell_type": "code",
   "execution_count": 4,
   "metadata": {},
   "outputs": [],
   "source": [
    "# randomly shuffle\n",
    "\n",
    "shuffled_array = original_array.copy()\n",
    "np.random.shuffle(shuffled_array)\n",
    "sorted_array = shuffled_array.copy()"
   ]
  },
  {
   "cell_type": "markdown",
   "metadata": {},
   "source": [
    "Let’s see Numba in action. The following is a Python implementation of bubblesort for NumPy arrays."
   ]
  },
  {
   "cell_type": "code",
   "execution_count": 4,
   "metadata": {
    "executionInfo": {
     "elapsed": 150,
     "status": "ok",
     "timestamp": 1677596766843,
     "user": {
      "displayName": "Yijun Tang",
      "userId": "15094714110312648400"
     },
     "user_tz": 300
    },
    "id": "nGgNYqXFPK0z"
   },
   "outputs": [],
   "source": [
    "# bubblesort as pure python code\n",
    "\n",
    "def bubblesort(X):4\n",
    "    N = len(X)\n",
    "    for end in range(N, 1, -1):\n",
    "        for i in range(end - 1):\n",
    "            cur = X[i]\n",
    "            if cur > X[i + 1]:\n",
    "                tmp = X[i]\n",
    "                X[i] = X[i + 1]\n",
    "                X[i + 1] = tmp"
   ]
  },
  {
   "cell_type": "markdown",
   "metadata": {},
   "source": [
    "- Now let’s see time the execution. \n",
    "\n",
    "- Note: we need to copy the array so we sort a random array each time as sorting an already sorted array is faster and so would distort our timing."
   ]
  },
  {
   "cell_type": "code",
   "execution_count": 5,
   "metadata": {
    "colab": {
     "base_uri": "https://localhost:8080/"
    },
    "executionInfo": {
     "elapsed": 21647,
     "status": "ok",
     "timestamp": 1677596790381,
     "user": {
      "displayName": "Yijun Tang",
      "userId": "15094714110312648400"
     },
     "user_tz": 300
    },
    "id": "456spkDcPK0z",
    "outputId": "3dd5c871-7e5d-452c-8e38-34a3cd9fadb2"
   },
   "outputs": [
    {
     "name": "stdout",
     "output_type": "stream",
     "text": [
      "158 ms ± 2.83 ms per loop (mean ± std. dev. of 7 runs, 10 loops each)\n",
      "length: 1000\n",
      "original:  [0.   0.01 0.02 0.03 0.04 0.05 0.06 0.07 0.08 0.09]\n",
      "shuffled:  [9.64 0.03 8.4  5.37 8.63 3.48 1.71 0.97 6.77 5.57]\n",
      "sorted:    [0.   0.01 0.02 0.03 0.04 0.05 0.06 0.07 0.08 0.09]\n"
     ]
    }
   ],
   "source": [
    "# Pure Python implementation is\n",
    "%timeit -n 10 sorted_array[:] = shuffled_array[:]; bubblesort(sorted_array)\n",
    "\n",
    "print(\"length:\", len(original_array))\n",
    "print(\"original: \", original_array[:10])\n",
    "print(\"shuffled: \", shuffled_array[:10])\n",
    "print(\"sorted:   \", sorted_array[:10])"
   ]
  },
  {
   "cell_type": "markdown",
   "metadata": {
    "id": "SI7f4vXKPK00"
   },
   "source": [
    "- Now we simply use the **@jit** decorator (or **@njit** if there is Deprecation Warnings) and let Numba decide when and how to optimize, so we simply add the decorator to the function:"
   ]
  },
  {
   "cell_type": "code",
   "execution_count": 6,
   "metadata": {
    "executionInfo": {
     "elapsed": 1107,
     "status": "ok",
     "timestamp": 1677596820628,
     "user": {
      "displayName": "Yijun Tang",
      "userId": "15094714110312648400"
     },
     "user_tz": 300
    },
    "id": "dTcotWtlPK00"
   },
   "outputs": [],
   "source": [
    "from numba import jit\n",
    "\n",
    "#@jit \n",
    "@jit(nopython=True)  # Set \"nopython\" mode for best performance, equivalent to @njit\n",
    "def bubblesort_numba(X):\n",
    "    N = len(X)\n",
    "    for end in range(N, 1, -1):\n",
    "        for i in range(end - 1):\n",
    "            cur = X[i]\n",
    "            if cur > X[i + 1]:\n",
    "                tmp = X[i]\n",
    "                X[i] = X[i + 1]\n",
    "                X[i + 1] = tmp+1"
   ]
  },
  {
   "cell_type": "code",
   "execution_count": 7,
   "metadata": {},
   "outputs": [
    {
     "name": "stdout",
     "output_type": "stream",
     "text": [
      "CPU times: total: 188 ms\n",
      "Wall time: 950 ms\n"
     ]
    }
   ],
   "source": [
    "%time sorted_array[:] = shuffled_array[:]; bubblesort_numba(sorted_array)"
   ]
  },
  {
   "cell_type": "code",
   "execution_count": 8,
   "metadata": {
    "colab": {
     "base_uri": "https://localhost:8080/"
    },
    "executionInfo": {
     "elapsed": 359,
     "status": "ok",
     "timestamp": 1677596841490,
     "user": {
      "displayName": "Yijun Tang",
      "userId": "15094714110312648400"
     },
     "user_tz": 300
    },
    "id": "MfiI0GMcPK00",
    "outputId": "aaf8d2b4-e948-4f27-f8d7-e1d9813f8953"
   },
   "outputs": [
    {
     "name": "stdout",
     "output_type": "stream",
     "text": [
      "636 µs ± 66.5 µs per loop (mean ± std. dev. of 7 runs, 10 loops each)\n"
     ]
    }
   ],
   "source": [
    "%timeit -n 10 sorted_array[:] = shuffled_array[:]; bubblesort_numba(sorted_array)"
   ]
  },
  {
   "cell_type": "code",
   "execution_count": 9,
   "metadata": {},
   "outputs": [
    {
     "name": "stdout",
     "output_type": "stream",
     "text": [
      "27 µs ± 5.32 µs per loop (mean ± std. dev. of 7 runs, 1,000 loops each)\n"
     ]
    }
   ],
   "source": [
    "%timeit -n 1000 sorted_array[:] = shuffled_array[:]; np.sort(sorted_array)"
   ]
  },
  {
   "cell_type": "markdown",
   "metadata": {
    "id": "YRCKTrw_PK00"
   },
   "source": [
    "### Function Signature\n",
    "\n",
    "- It is also possible to specify the signature of the Numba function. \n",
    "\n",
    "- A function signature describes **the types of the arguments** and **the return type of the function**. \n",
    "\n",
    "- This can produce **slightly** faster code as the compiler does not need to infer the types. \n",
    "\n",
    "- However the function is no longer able to accept other types. The specified types within @jit called the function _signature_."
   ]
  },
  {
   "cell_type": "code",
   "execution_count": 10,
   "metadata": {
    "id": "Taeg5TLtPK00"
   },
   "outputs": [],
   "source": [
    "from numba import njit, int32, float64\n",
    "\n",
    "@njit(float64(int32, int32))\n",
    "def f(x, y):\n",
    "    # A somewhat trivial example\n",
    "    return (x + y) / 3.14"
   ]
  },
  {
   "cell_type": "markdown",
   "metadata": {},
   "source": [
    "- In this example, float64(int32, int32) is the function’s signature specifying a function that takes two 32-bit integer arguments and returns a double precision float. Numba provides a **shorthand notation**, so the same signature can be specified as f8(i4, i4).\n",
    "\n",
    "See shorthand notation:\n",
    "https://numba.pydata.org/numba-doc/0.31.0/reference/types.html#numbers\n",
    "\n",
    "- Specialization can make the functions less flexible: The specialization will be compiled by the @jit decorator, and no other specialization will be allowed. This is useful if you want fine-grained control over types chosen by the compiler (for example, to use single-precision floats).\n",
    "\n",
    "- If you omit the return type, e.g. by writing (int32, int32) instead of float64(int32, int32), Numba will try to infer it for you. Function signatures can also be strings, and you can pass several of them as a list; see the numba.jit() documentation for more details.\n"
   ]
  },
  {
   "cell_type": "code",
   "execution_count": 11,
   "metadata": {
    "colab": {
     "base_uri": "https://localhost:8080/"
    },
    "executionInfo": {
     "elapsed": 551,
     "status": "ok",
     "timestamp": 1674437281397,
     "user": {
      "displayName": "Yijun Tang",
      "userId": "15094714110312648400"
     },
     "user_tz": 300
    },
    "id": "2NLBNQJNPK00",
    "outputId": "8bf18abf-3341-4b93-96fc-a326a73b2b6a"
   },
   "outputs": [
    {
     "data": {
      "text/plain": [
       "1.2738853503184713"
      ]
     },
     "execution_count": 11,
     "metadata": {},
     "output_type": "execute_result"
    }
   ],
   "source": [
    "f(2, 2)"
   ]
  },
  {
   "cell_type": "markdown",
   "metadata": {},
   "source": [
    "- Array signatures are specified by subscripting a base type according to the number of dimensions. For example a 1-dimension single-precision array would be written float32[:], or a 3-dimension array of the same underlying type would be f4[:,:,:] (using the shorthand notation)."
   ]
  },
  {
   "cell_type": "code",
   "execution_count": 12,
   "metadata": {
    "id": "3tXkkclcPK00"
   },
   "outputs": [],
   "source": [
    "from numba import njit, float64\n",
    "\n",
    "@njit(\"void(float64[:])\")\n",
    "def bubblesort_numba_argtypes(X):\n",
    "    N = len(X)\n",
    "    for end in range(N, 1, -1):\n",
    "        for i in range(end - 1):\n",
    "            cur = X[i]\n",
    "            if cur > X[i + 1]:\n",
    "                tmp = X[i]\n",
    "                X[i] = X[i + 1]\n",
    "                X[i + 1] = tmp"
   ]
  },
  {
   "cell_type": "code",
   "execution_count": 13,
   "metadata": {
    "id": "9rilaIHJPK01"
   },
   "outputs": [
    {
     "name": "stdout",
     "output_type": "stream",
     "text": [
      "988 µs ± 106 µs per loop (mean ± std. dev. of 7 runs, 10 loops each)\n"
     ]
    }
   ],
   "source": [
    "%timeit -n 10 sorted_array[:] = shuffled_array[:]; bubblesort_numba_argtypes(sorted_array)"
   ]
  },
  {
   "cell_type": "markdown",
   "metadata": {},
   "source": [
    "**Signature specifications**\n",
    "\n",
    "Explicit @jit signatures can use a number of types. Here are some common ones:\n",
    "\n",
    "- _void_ is the return type of functions returning nothing (which actually return None when called from Python)\n",
    "\n",
    "- _intp_ and _uintp_ are pointer-sized integers (signed and unsigned, respectively)\n",
    "\n",
    "- _intc_ and _uintc_ are equivalent to C int and unsigned int integer types\n",
    "\n",
    "- _int8_, _uint8_, _int16_, _uint16_, _int32_, _uint32_, _int64_, _uint64_ are fixed-width integers of the corresponding bit width (signed and unsigned)\n",
    "\n",
    "- _float32_ and _float64_ are single- and double-precision floating-point numbers, respectively\n",
    "\n",
    "- _complex64_ and _complex128_ are single- and double-precision complex numbers, respectively\n",
    "\n",
    "- array types can be specified by indexing any numeric type, e.g. _float32[:]_ for a one-dimensional single-precision array or _int8[:,:]_ for a two-dimensional array of 8-bit integers."
   ]
  },
  {
   "cell_type": "markdown",
   "metadata": {
    "id": "mysMsN_gPK01"
   },
   "source": [
    "---\n",
    "### Compilation Modes\n",
    "Numba has two compilation modes: \n",
    "- nopython mode \n",
    "- object mode\n",
    "\n",
    "**nopython mode**: \n",
    "\n",
    "- Numba compiler generates code that does not access Python C API.(The behaviour of the nopython compilation mode is to essentially compile the decorated function so that it will run entirely without the involvement of the Python interpreter)\n",
    "- This mode produces the highest performance code, but requires that the native types of all values in the function can be inferred.  (This is the recommended and best-practice way to use the Numba jit decorator as it leads to the best performance.)\n",
    "\n",
    "\n",
    "**object mode**:\n",
    "\n",
    "- Numba compiler generates code that handles all values as Python objects and uses the Python C API to perform all operations on those objects.(In this mode Numba will identify loops that it can compile and compile those into functions that run in machine code, and it will run the rest of the code in the interpreter) \n",
    "- Code compiled in object mode will often run no faster than Python interpreted code. This mode is used when the type of some variables can not be inferred.\n",
    "\n",
    "\n",
    "A typical approach is to force the **nopython** mode, triggering an error message when the mode is not possible.\n",
    "\n",
    "- **nopython** mode is so useful that newer versions of numba provides a **njit** decorator."
   ]
  },
  {
   "cell_type": "code",
   "execution_count": 6,
   "metadata": {
    "executionInfo": {
     "elapsed": 292,
     "status": "ok",
     "timestamp": 1677596894966,
     "user": {
      "displayName": "Yijun Tang",
      "userId": "15094714110312648400"
     },
     "user_tz": 300
    },
    "id": "vegHOfEnPK01"
   },
   "outputs": [],
   "source": [
    "from numba import njit, jit, float64\n",
    "\n",
    "# @jit(\"void(float64[:])\", nopython=True)\n",
    "@njit(\"void(float64[:])\")\n",
    "def bubblesort_nopython_flag(X):\n",
    "    N = len(X)\n",
    "    for end in range(N, 1, -1):\n",
    "        for i in range(end - 1):\n",
    "            cur = X[i]\n",
    "            if cur > X[i + 1]:\n",
    "                tmp = X[i]\n",
    "                X[i] = X[i + 1]\n",
    "                X[i + 1] = tmp"
   ]
  },
  {
   "cell_type": "code",
   "execution_count": 15,
   "metadata": {
    "colab": {
     "base_uri": "https://localhost:8080/"
    },
    "executionInfo": {
     "elapsed": 625,
     "status": "ok",
     "timestamp": 1677596900254,
     "user": {
      "displayName": "Yijun Tang",
      "userId": "15094714110312648400"
     },
     "user_tz": 300
    },
    "id": "CRmzYEQYPK01",
    "outputId": "460ad0e4-5f2c-4036-b1ab-1779b4b2c36f"
   },
   "outputs": [
    {
     "name": "stdout",
     "output_type": "stream",
     "text": [
      "953 µs ± 128 µs per loop (mean ± std. dev. of 7 runs, 10 loops each)\n"
     ]
    }
   ],
   "source": [
    "%timeit -n 10 sorted_array[:] = shuffled_array[:]; bubblesort_nopython_flag(sorted_array)"
   ]
  },
  {
   "cell_type": "markdown",
   "metadata": {
    "id": "bX5584IjPK01"
   },
   "source": [
    "Notice that this code compiles cleanly. However, if we introduce an object whose type cannot be inferred an error message shows up."
   ]
  },
  {
   "cell_type": "code",
   "execution_count": 7,
   "metadata": {
    "colab": {
     "base_uri": "https://localhost:8080/"
    },
    "executionInfo": {
     "elapsed": 558,
     "status": "ok",
     "timestamp": 1677596913568,
     "user": {
      "displayName": "Yijun Tang",
      "userId": "15094714110312648400"
     },
     "user_tz": 300
    },
    "id": "i9M8mLrjPK01",
    "outputId": "1309354c-2bdf-48f1-acbe-ae4a85abf213"
   },
   "outputs": [],
   "source": [
    "from decimal import Decimal\n",
    "\n",
    "@jit(\"void(float64[:])\", nopython=True)\n",
    "def bubblesort_nopython_flag(X):\n",
    "    N = len(X)\n",
    "    val = Decimal(100)  # just to force an error\n",
    "    for end in range(N, 1, -1):\n",
    "        for i in range(end - 1):\n",
    "            cur = X[i]\n",
    "            if cur > X[i + 1]:\n",
    "                tmp = X[i]\n",
    "                X[i] = X[i + 1]\n",
    "                X[i + 1] = tmp"
   ]
  },
  {
   "cell_type": "markdown",
   "metadata": {},
   "source": [
    "Now when we try to compile this code, Numba complains that Decimal is an untyped name. Without the nopython mode, this code would have compiled, but would have run much more slowly."
   ]
  },
  {
   "cell_type": "code",
   "execution_count": 20,
   "metadata": {
    "id": "ijnJr7ckPK01"
   },
   "outputs": [
    {
     "name": "stdout",
     "output_type": "stream",
     "text": [
      "1.02 ms ± 242 µs per loop (mean ± std. dev. of 7 runs, 10 loops each)\n"
     ]
    }
   ],
   "source": [
    "%timeit -n 10 sorted_array[:] = shuffled_array[:]; bubblesort_nopython_flag(sorted_array)"
   ]
  },
  {
   "cell_type": "markdown",
   "metadata": {
    "id": "m6FkvTxePK01"
   },
   "source": [
    "### Calling other functions\n",
    "Numba functions can call other Numba functions. Both functions must have the **@jit** decorator, otherwise the code will be much slower."
   ]
  },
  {
   "cell_type": "code",
   "execution_count": 80,
   "metadata": {
    "id": "775Bjn5_PK01"
   },
   "outputs": [],
   "source": [
    "import numpy as np\n",
    "\n",
    "original = np.arange(0.0, 10.0, 0.01, dtype='float')\n",
    "shuffled = original.copy()\n",
    "np.random.shuffle(shuffled)\n",
    "\n",
    "sorted = shuffled.copy()"
   ]
  },
  {
   "cell_type": "code",
   "execution_count": 82,
   "metadata": {
    "id": "fEqIpmcjPK01"
   },
   "outputs": [],
   "source": [
    "from numba import jit, float64\n",
    "\n",
    "@jit(\"void(float64[:])\", nopython=True)\n",
    "def bubblesort_ff(X):\n",
    "    N = len(X)\n",
    "    for end in range(N, 1, -1):\n",
    "        for i in range(end - 1):\n",
    "            cur = X[i]\n",
    "            if cur > X[i + 1]:\n",
    "                tmp = X[i]\n",
    "                X[i] = X[i + 1]\n",
    "                X[i + 1] = tmp\n",
    "               \n",
    "@jit(\"void(float64[:])\",nopython=True)\n",
    "def do_sort(sorted):\n",
    "    bubblesort_ff(sorted)\n",
    "    "
   ]
  },
  {
   "cell_type": "code",
   "execution_count": 83,
   "metadata": {
    "id": "6TITrNo7PK01"
   },
   "outputs": [
    {
     "name": "stdout",
     "output_type": "stream",
     "text": [
      "894 µs ± 112 µs per loop (mean ± std. dev. of 7 runs, 10 loops each)\n"
     ]
    }
   ],
   "source": [
    "%timeit -n 10 sorted[:]=shuffled[:]; do_sort(sorted)"
   ]
  },
  {
   "cell_type": "markdown",
   "metadata": {
    "id": "2Jbu0us6PK01"
   },
   "source": [
    "---\n",
    "###  NumPy Universal Functions ([ufunc](https://docs.scipy.org/doc/numpy-1.10.0/reference/ufuncs.html#universal-functions-ufunc))\n",
    "\n",
    "\n",
    "---\n",
    "- Examples of Numpy ufunc include add(), multiply(), and sin().  \n",
    "\n",
    "- These functions **operate on ndarrays** in an **element-by-element** fashion, supporting array broadcasting, type casting, and several other standard features.\n",
    "\n",
    "- A ufunc is a “vectorized” wrapper for a function that takes a fixed number of scalar inputs and produces a fixed number of scalar outputs.\n",
    "\n",
    "- Many of NumPy’s builtin operators are ufuncs.\n",
    "\n",
    "---\n",
    "- Numba’s **@vectorize** decorator allows Python functions taking scalar input arguments to be used as **NumPy ufuncs**.   \n",
    "\n",
    "\n",
    "- (Creating a traditional NumPy ufunc is not the most straightforward process and involves writing some C code. Numba makes this easy.)  \n",
    "\n",
    "\n",
    "- Using the @vectorize decorator, Numba can compile a pure Python function into a ufunc that operates over NumPy arrays as fast as traditional ufuncs written in C.  "
   ]
  },
  {
   "cell_type": "markdown",
   "metadata": {
    "id": "04UAb1KPPK01"
   },
   "source": [
    "The @vectorize decorator has two modes of operation:\n",
    "\n",
    "- **Eager**, or decoration-time, compilation. If you pass one or more type signatures to the decorator, you will be building a Numpy ufunc. We’re just going to consider eager compilation here.\n",
    "- **Lazy**, or call-time, compilation. When not given any signatures, the decorator will give you a Numba dynamic universal function (DUFunc) that dynamically compiles a new kernel when called with a previously unsupported input type.  \n",
    "\n",
    "\n",
    "**Using @vectorize, you write your function as operating over input scalars, rather than arrays. Numba will generate the surrounding loop (or kernel) allowing efficient iteration over the actual inputs.**   \n"
   ]
  },
  {
   "cell_type": "code",
   "execution_count": 84,
   "metadata": {
    "executionInfo": {
     "elapsed": 240,
     "status": "ok",
     "timestamp": 1677596971910,
     "user": {
      "displayName": "Yijun Tang",
      "userId": "15094714110312648400"
     },
     "user_tz": 300
    },
    "id": "oP29d8LTPK02"
   },
   "outputs": [],
   "source": [
    "import numpy as np\n",
    "from numba import vectorize, int64\n",
    "\n",
    "@vectorize([int64(int64, int64)])\n",
    "def vec_add_vectorize(x, y):\n",
    "    return x + y\n"
   ]
  },
  {
   "cell_type": "code",
   "execution_count": 85,
   "metadata": {
    "colab": {
     "base_uri": "https://localhost:8080/"
    },
    "executionInfo": {
     "elapsed": 182,
     "status": "ok",
     "timestamp": 1677596973751,
     "user": {
      "displayName": "Yijun Tang",
      "userId": "15094714110312648400"
     },
     "user_tz": 300
    },
    "id": "iwMMVUrNPK02",
    "outputId": "3ff2f360-52fe-4a07-9fea-5248d9aeaa7f"
   },
   "outputs": [
    {
     "name": "stdout",
     "output_type": "stream",
     "text": [
      "a    :  [0 1 2 3 4 5]\n",
      "b    :  [ 0  2  4  6  8 10]\n",
      "--------------------------------------------------------------------------------\n",
      "a + a:  [ 0  2  4  6  8 10]\n",
      "b + b:  [ 0  4  8 12 16 20]\n"
     ]
    }
   ],
   "source": [
    "a = np.arange(6, dtype=np.int64)\n",
    "b = np.linspace(0, 10, 6, dtype=np.int64)\n",
    "\n",
    "print(\"a    : \", a)\n",
    "print(\"b    : \", b)\n",
    "\n",
    "print(\"-\" * 80)\n",
    "print(\"a + a: \", vec_add_vectorize(a, a))\n",
    "print(\"b + b: \", vec_add_vectorize(b, b))"
   ]
  },
  {
   "cell_type": "code",
   "execution_count": 86,
   "metadata": {
    "executionInfo": {
     "elapsed": 506,
     "status": "ok",
     "timestamp": 1677596984559,
     "user": {
      "displayName": "Yijun Tang",
      "userId": "15094714110312648400"
     },
     "user_tz": 300
    },
    "id": "UuXj_O1GPK02"
   },
   "outputs": [
    {
     "name": "stderr",
     "output_type": "stream",
     "text": [
      "C:\\Users\\hagha\\AppData\\Local\\Temp\\ipykernel_29768\\3286286215.py:1: NumbaDeprecationWarning: \u001b[1mThe 'nopython' keyword argument was not supplied to the 'numba.jit' decorator. The implicit default value for this argument is currently False, but it will be changed to True in Numba 0.59.0. See https://numba.readthedocs.io/en/stable/reference/deprecation.html#deprecation-of-object-mode-fall-back-behaviour-when-using-jit for details.\u001b[0m\n",
      "  @jit(\"int64[:](int64[:], int64[:])\")\n"
     ]
    }
   ],
   "source": [
    "@jit(\"int64[:](int64[:], int64[:])\")\n",
    "def vec_add_jit(x, y):\n",
    "    return x + y"
   ]
  },
  {
   "cell_type": "code",
   "execution_count": 87,
   "metadata": {
    "colab": {
     "base_uri": "https://localhost:8080/"
    },
    "executionInfo": {
     "elapsed": 800,
     "status": "ok",
     "timestamp": 1677596986165,
     "user": {
      "displayName": "Yijun Tang",
      "userId": "15094714110312648400"
     },
     "user_tz": 300
    },
    "id": "XzbH0ByCPK02",
    "outputId": "6e284bee-d830-4768-9bc6-185bdfdf7095"
   },
   "outputs": [
    {
     "name": "stdout",
     "output_type": "stream",
     "text": [
      "[ 0  2  4  6  8 10]\n",
      "[ 0  4  8 12 16 20]\n"
     ]
    }
   ],
   "source": [
    "print(vec_add_jit(a, a))\n",
    "print(vec_add_jit(b, b))"
   ]
  },
  {
   "cell_type": "markdown",
   "metadata": {
    "id": "ZOb8IQsjPK02"
   },
   "source": [
    "The difference between the **@vectorize** and **@jit** is that \"vectorize\" is creating a new function with the associated efficient for-loop, while \"@jit\" is using the Numpy function.\n",
    "\n",
    "[http://numba.pydata.org/numba-doc/latest/user/vectorize.html](http://numba.pydata.org/numba-doc/latest/user/vectorize.html)"
   ]
  }
 ],
 "metadata": {
  "celltoolbar": "Slideshow",
  "colab": {
   "provenance": []
  },
  "kernelspec": {
   "display_name": "Python 3 (ipykernel)",
   "language": "python",
   "name": "python3"
  },
  "language_info": {
   "codemirror_mode": {
    "name": "ipython",
    "version": 3
   },
   "file_extension": ".py",
   "mimetype": "text/x-python",
   "name": "python",
   "nbconvert_exporter": "python",
   "pygments_lexer": "ipython3",
   "version": "3.11.5"
  }
 },
 "nbformat": 4,
 "nbformat_minor": 1
}
