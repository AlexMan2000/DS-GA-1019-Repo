{
 "cells": [
  {
   "cell_type": "markdown",
   "metadata": {
    "slideshow": {
     "slide_type": "slide"
    }
   },
   "source": [
    "## Lecture 02  \n",
    "## Python Performance Tips  \n",
    "### 01/31/2024"
   ]
  },
  {
   "cell_type": "markdown",
   "metadata": {
    "slideshow": {
     "slide_type": "slide"
    }
   },
   "source": [
    "## Useful resources\n",
    "- http://alberto.bietti.me/python-performance-tips/\n",
    "\n",
    "- https://wiki.python.org/moin/PythonSpeed/PerformanceTips"
   ]
  },
  {
   "cell_type": "markdown",
   "metadata": {
    "slideshow": {
     "slide_type": "slide"
    }
   },
   "source": [
    "**Why is Python slower than compiled languages like C and C++?**\n",
    "- Python is a **dynamic interpreted** language (not a compiled language)\n",
    "\n",
    "- Dynamic: Types of variables, function arguments, etc. are not known until the program runs\n",
    "\n",
    "- It is not compiled to the native object code and executed on a computer system\n",
    "\n",
    "- Dynamic interpreted languages have great flexibility, but suffer significant performance limitations\n",
    "\n",
    "   - why? \n",
    "   - **Difficult to optimize**: The first is due to the dynamic nature of the language. Because the types of Python objects (variables, function arguments, etc.) are not known until the program is run, it is very difficult to optimize the interpreter, since it is not possible to know what the bytecode is going to do before it is executed. \n",
    "   - **Dependence on the interpreter**: The second issue is that the bytecode generated from compiling Python is targeted at a Python Virtual Machine (PVM), not at the hardware that the program is running on. The Python interpreter must convert the PVM instructions into hardware instructions in order to execute the bytecode. This coversion is always going to carry some overhead. \n",
    "   \n",
    "---\n",
    "\n",
    "- Python is easy to learn, write, read, debug\n",
    "\n",
    "- A large library of built-in functions and libraries: https://docs.python.org/3/library/functions.html\n",
    "\n",
    "---"
   ]
  },
  {
   "cell_type": "markdown",
   "metadata": {
    "slideshow": {
     "slide_type": "slide"
    }
   },
   "source": [
    "\n",
    "### How to optimize?\n",
    "\n",
    "- Get the program to give correct results\n",
    "\n",
    "- Then rerun to see if the correct program is slow\n",
    "\n",
    "- Profile to find which parts of the program consume most of the time \n",
    "\n",
    "- Repeat"
   ]
  },
  {
   "cell_type": "markdown",
   "metadata": {
    "slideshow": {
     "slide_type": "slide"
    }
   },
   "source": [
    "### Today's topics: \n",
    "\n",
    "- There are a variety of techniques that can be used to improve performance: \n",
    "\n",
    "- Built-in functions\n",
    "\n",
    "- Function Call Overhead\n",
    "\n",
    "- Function Decorator\n",
    "\n",
    "- Loops, and built-in operators\n",
    "\n",
    "- Membership operator **in** \n"
   ]
  },
  {
   "cell_type": "markdown",
   "metadata": {
    "slideshow": {
     "slide_type": "slide"
    }
   },
   "source": [
    "## Timing Python Code\n",
    "\n",
    "- How can I tell how long my python code takes to run?"
   ]
  },
  {
   "cell_type": "code",
   "execution_count": 1,
   "metadata": {
    "slideshow": {
     "slide_type": "slide"
    },
    "tags": []
   },
   "outputs": [],
   "source": [
    "# manually to time:\n",
    "\n",
    "import time\n",
    "\n",
    "start_time = time.time()\n",
    "\n",
    "#factorial 500! = 1 * 2 * 3 * ... * 500\n",
    "fact = 1\n",
    "for i in range(1, 500): \n",
    "    fact *= i\n",
    "\n",
    "end_time = time.time()\n",
    "\n",
    "#print(fact)"
   ]
  },
  {
   "cell_type": "code",
   "execution_count": 5,
   "metadata": {
    "tags": []
   },
   "outputs": [
    {
     "name": "stdout",
     "output_type": "stream",
     "text": [
      "run_time: 0.000200\n"
     ]
    }
   ],
   "source": [
    "print(\"run_time: %f\" % (end_time - start_time))"
   ]
  },
  {
   "cell_type": "code",
   "execution_count": 6,
   "metadata": {
    "slideshow": {
     "slide_type": "slide"
    },
    "tags": []
   },
   "outputs": [
    {
     "name": "stdout",
     "output_type": "stream",
     "text": [
      "1706745224.5499892\n"
     ]
    }
   ],
   "source": [
    "import time\n",
    "print(time.time()) # method of Time module is used to get the time in seconds since epoch.\n",
    "# epoch: ( January 1, 1970, 00:00:00 (UTC))"
   ]
  },
  {
   "cell_type": "code",
   "execution_count": 7,
   "metadata": {
    "slideshow": {
     "slide_type": "slide"
    },
    "tags": []
   },
   "outputs": [
    {
     "name": "stdout",
     "output_type": "stream",
     "text": [
      "run_time: 0.932457415969111\n",
      "run_time: 9.236717920284719e-05\n"
     ]
    }
   ],
   "source": [
    "# Timing Python Code\n",
    "# timeit module: measuring the execution time of code.\n",
    "# To see how long it takes a program to run once;\n",
    "# on average over a bunch of runs, e.g. over k=10000 runs;\n",
    "\n",
    "import timeit\n",
    "\n",
    "def my_function():\n",
    "    fact = 1\n",
    "    for i in range(1, 500): \n",
    "        fact *= i\n",
    "\n",
    "\n",
    "k = 10000 # number of times run the code\n",
    "print(\"run_time:\", timeit.timeit(my_function, number=k)) # K run\n",
    "print(\"run_time:\", timeit.timeit(my_function, number=k) / k) # each run"
   ]
  },
  {
   "cell_type": "code",
   "execution_count": 8,
   "metadata": {
    "slideshow": {
     "slide_type": "slide"
    },
    "tags": []
   },
   "outputs": [
    {
     "name": "stdout",
     "output_type": "stream",
     "text": [
      "93.3 µs ± 1.35 µs per loop (mean ± std. dev. of 7 runs, 1,000 loops each)\n"
     ]
    }
   ],
   "source": [
    "#if using IPython\n",
    "# %timeit: Time execution of a Python statement or expression\n",
    "# %timeit my_function()\n",
    "\n",
    "# 7 experiments, 1000 runs each experiment, result is the average.\n",
    "%timeit -n 1000 -r 7 my_function()"
   ]
  },
  {
   "cell_type": "code",
   "execution_count": 9,
   "metadata": {
    "slideshow": {
     "slide_type": "slide"
    },
    "tags": []
   },
   "outputs": [
    {
     "name": "stdout",
     "output_type": "stream",
     "text": [
      "96.4 µs ± 6.23 µs per loop (mean ± std. dev. of 10 runs, 10,000 loops each)\n",
      "94.6 µs ± 4.21 µs per loop (mean ± std. dev. of 10 runs, 1,000 loops each)\n"
     ]
    }
   ],
   "source": [
    "\n",
    "\n",
    "%timeit -r 10 my_function()\n",
    "\n",
    "%timeit -r 10 -n 1000 my_function()\n",
    "\n"
   ]
  },
  {
   "cell_type": "code",
   "execution_count": 18,
   "metadata": {
    "slideshow": {
     "slide_type": "slide"
    }
   },
   "outputs": [
    {
     "name": "stdout",
     "output_type": "stream",
     "text": [
      "128 ns ± 92.3 ns per loop (mean ± std. dev. of 7 runs, 10,000 loops each)\n",
      "105 ns ± 12.2 ns per loop (mean ± std. dev. of 7 runs, 10,000 loops each)\n",
      "143 ns ± 56 ns per loop (mean ± std. dev. of 7 runs, 10,000 loops each)\n"
     ]
    }
   ],
   "source": [
    "def f(x):\n",
    "    return x**2\n",
    "\n",
    "def g(x):\n",
    "    return x**4\n",
    "\n",
    "def h(x):\n",
    "    return x**8\n",
    "\n",
    "\n",
    "%timeit -n 10000 f(5)\n",
    "\n",
    "%timeit -n 10000 g(5)\n",
    "\n",
    "%timeit -n 10000 h(5)\n"
   ]
  },
  {
   "cell_type": "markdown",
   "metadata": {
    "slideshow": {
     "slide_type": "slide"
    }
   },
   "source": [
    "# Built-in Functions\n",
    "\n",
    "\n",
    "- One of the easiest ways to improve Python performance is not to execute any Python code at all! \n",
    "\n",
    "- Python provides a large number of built-in functions that perform a wide variety of operations. \n",
    "\n",
    "- These built-in functions are written in C, and so are generally very fast. \n",
    "\n",
    "- See the Python documentation for a list of the available functions: https://docs.python.org/3/library/functions.html\n"
   ]
  },
  {
   "cell_type": "code",
   "execution_count": 20,
   "metadata": {
    "scrolled": true,
    "slideshow": {
     "slide_type": "slide"
    }
   },
   "outputs": [
    {
     "name": "stdout",
     "output_type": "stream",
     "text": [
      "3.308843522509264e-06 3.308843522509264e-06\n",
      "2.45 ms ± 338 µs per loop (mean ± std. dev. of 7 runs, 100 loops each)\n",
      "1.43 ms ± 30.9 µs per loop (mean ± std. dev. of 7 runs, 100 loops each)\n"
     ]
    }
   ],
   "source": [
    "\n",
    "# my_min: takes a list of integers as an argument and finds the minimum value.\n",
    "def my_min(values):\n",
    "    min_value = values[0]\n",
    "    for v in values:\n",
    "        if v < min_value:\n",
    "            min_value = v\n",
    "    return min_value\n",
    "\n",
    "import random\n",
    "random_numbers = [random.random() for _ in range(0,100_000)]\n",
    "\n",
    "print(my_min(random_numbers), min(random_numbers))\n",
    "\n",
    "#time \"my_min()\"\n",
    "%timeit -n 100 my_min(random_numbers)\n",
    "\n",
    "# However, Python already provides a min function that can be used instead\n",
    "%timeit -n 100 min(random_numbers)\n"
   ]
  },
  {
   "cell_type": "markdown",
   "metadata": {
    "slideshow": {
     "slide_type": "slide"
    }
   },
   "source": [
    "# Function Call Overhead  \n",
    "\n",
    "\n",
    "**How functions affect a program’s performance?**  \n",
    "\n",
    "- Function call overhead in Python is relatively high, especially compared with the execution speed of builtin functions. \n",
    "\n",
    "- The overhead is due, e.g., to loading function objects, loading and checking function arguments, dynamic type checking of function arguments that must be performed before and after the function call.\n",
    "\n",
    "- One idea is to minimize the number of function calls by handling aggregates\n"
   ]
  },
  {
   "cell_type": "code",
   "execution_count": 13,
   "metadata": {
    "tags": []
   },
   "outputs": [
    {
     "data": {
      "text/plain": [
       "50005000"
      ]
     },
     "execution_count": 13,
     "metadata": {},
     "output_type": "execute_result"
    }
   ],
   "source": [
    "total_sum = 0\n",
    "\n",
    "def inner(i):\n",
    "    global total_sum\n",
    "    total_sum += i\n",
    "# call inner for each element \n",
    "def outer_1():\n",
    "    for i in range(10_000 + 1): \n",
    "        inner(i)\n",
    "outer_1()        \n",
    "total_sum"
   ]
  },
  {
   "cell_type": "code",
   "execution_count": 14,
   "metadata": {
    "slideshow": {
     "slide_type": "slide"
    },
    "tags": []
   },
   "outputs": [
    {
     "name": "stdout",
     "output_type": "stream",
     "text": [
      "776 µs ± 48.4 µs per loop (mean ± std. dev. of 7 runs, 100 loops each)\n"
     ]
    }
   ],
   "source": [
    "%%timeit -n 100\n",
    "\n",
    "total_sum = 0\n",
    "def inner(i):\n",
    "    global total_sum\n",
    "    total_sum += i\n",
    "    \n",
    "# The sum of the first n non-negative integers\n",
    "# S_{n} = 1 + ... + n \n",
    "\n",
    "def outer_1():\n",
    "    # there are 10000 calls\n",
    "    for i in range(10_000 + 1): \n",
    "        inner(i)\n",
    "        \n",
    "outer_1()"
   ]
  },
  {
   "cell_type": "markdown",
   "metadata": {
    "slideshow": {
     "slide_type": "fragment"
    }
   },
   "source": [
    "- The \"inner\" function was called 10000 times. \n",
    "\n",
    "- Instead, move the loop inside the \"aggregate\" function and call it only once!"
   ]
  },
  {
   "cell_type": "code",
   "execution_count": 15,
   "metadata": {
    "slideshow": {
     "slide_type": "slide"
    },
    "tags": []
   },
   "outputs": [
    {
     "name": "stdout",
     "output_type": "stream",
     "text": [
      "317 µs ± 31.6 µs per loop (mean ± std. dev. of 7 runs, 100 loops each)\n",
      "50005000\n"
     ]
    }
   ],
   "source": [
    "# %%timeit -n 100\n",
    "\n",
    "def aggregate(l):\n",
    "    x = 0\n",
    "    for i in l:\n",
    "        x = x + i\n",
    "    return x\n",
    "\n",
    "def outer_2():\n",
    "    # there is only one call.\n",
    "    return aggregate(range(10_000 + 1))\n",
    "    \n",
    "%timeit -n 100 outer_2()\n",
    "print(outer_2())"
   ]
  },
  {
   "cell_type": "markdown",
   "metadata": {
    "slideshow": {
     "slide_type": "slide"
    }
   },
   "source": [
    "## Membership Testing"
   ]
  },
  {
   "cell_type": "markdown",
   "metadata": {
    "slideshow": {
     "slide_type": "fragment"
    }
   },
   "source": [
    "- Python provides the **in** operator (a membership operator) to check if an element exists in a collection. \n",
    "\n",
    "- The **in** operator is very fast at checking if an element exists in a **dict** or a **set**, because both dict and set are implemented using a **hash table**. \n"
   ]
  },
  {
   "cell_type": "code",
   "execution_count": 26,
   "metadata": {
    "slideshow": {
     "slide_type": "slide"
    }
   },
   "outputs": [
    {
     "name": "stdout",
     "output_type": "stream",
     "text": [
      "first 10 members: ['aaa', 'aab', 'aac', 'aad', 'aae', 'aaf', 'aag', 'aah', 'aai', 'aaj']\n",
      "last  10 members: ['zzq', 'zzr', 'zzs', 'zzt', 'zzu', 'zzv', 'zzw', 'zzx', 'zzy', 'zzz']\n"
     ]
    }
   ],
   "source": [
    "letters = 'abcdefghijklmnopqrstuvwxyz'\n",
    "letters_list = [x + y + z for x in letters for y in letters for z in letters]\n",
    "\n",
    "print(\"first 10 members:\", letters_list[:10])\n",
    "print(\"last  10 members:\", letters_list[-10:])"
   ]
  },
  {
   "cell_type": "code",
   "execution_count": 27,
   "metadata": {},
   "outputs": [
    {
     "data": {
      "text/plain": [
       "17576"
      ]
     },
     "execution_count": 27,
     "metadata": {},
     "output_type": "execute_result"
    }
   ],
   "source": [
    "len(letters_list)"
   ]
  },
  {
   "cell_type": "code",
   "execution_count": 28,
   "metadata": {
    "slideshow": {
     "slide_type": "slide"
    }
   },
   "outputs": [
    {
     "name": "stdout",
     "output_type": "stream",
     "text": [
      "len_letters_list = 17576\n",
      "len_letters ** 3 = 17576 = 26 ** 3\n"
     ]
    }
   ],
   "source": [
    "print(\"len_letters_list = %d\" % len(letters_list))\n",
    "print(\"len_letters ** 3 = %d = %d ** 3\" % (len(letters) ** 3, len(letters)))"
   ]
  },
  {
   "cell_type": "code",
   "execution_count": 29,
   "metadata": {
    "slideshow": {
     "slide_type": "slide"
    }
   },
   "outputs": [
    {
     "data": {
      "text/plain": [
       "True"
      ]
     },
     "execution_count": 29,
     "metadata": {},
     "output_type": "execute_result"
    }
   ],
   "source": [
    "\"aaa\" in letters_list"
   ]
  },
  {
   "cell_type": "code",
   "execution_count": 30,
   "metadata": {
    "slideshow": {
     "slide_type": "slide"
    }
   },
   "outputs": [
    {
     "data": {
      "text/plain": [
       "True"
      ]
     },
     "execution_count": 30,
     "metadata": {},
     "output_type": "execute_result"
    }
   ],
   "source": [
    "\"zzz\" in letters_list"
   ]
  },
  {
   "cell_type": "code",
   "execution_count": 34,
   "metadata": {
    "slideshow": {
     "slide_type": "slide"
    }
   },
   "outputs": [
    {
     "name": "stdout",
     "output_type": "stream",
     "text": [
      "41.1 ns ± 0.529 ns per loop (mean ± std. dev. of 7 runs, 10,000,000 loops each)\n",
      "160 µs ± 13.1 µs per loop (mean ± std. dev. of 7 runs, 10,000 loops each)\n",
      "320 µs ± 26.2 µs per loop (mean ± std. dev. of 7 runs, 1,000 loops each)\n"
     ]
    }
   ],
   "source": [
    "#Membership of a List\n",
    "%timeit (\"aaa\" in letters_list)\n",
    "%timeit (\"mmm\" in letters_list)\n",
    "%timeit (\"zzz\" in letters_list)"
   ]
  },
  {
   "cell_type": "markdown",
   "metadata": {
    "slideshow": {
     "slide_type": "slide"
    }
   },
   "source": [
    "### Checking for membership in a list or tuple is not as efficient!"
   ]
  },
  {
   "cell_type": "code",
   "execution_count": 16,
   "metadata": {
    "slideshow": {
     "slide_type": "slide"
    },
    "tags": []
   },
   "outputs": [
    {
     "ename": "NameError",
     "evalue": "name 'letters_list' is not defined",
     "output_type": "error",
     "traceback": [
      "\u001b[0;31m---------------------------------------------------------------------------\u001b[0m",
      "\u001b[0;31mNameError\u001b[0m                                 Traceback (most recent call last)",
      "Cell \u001b[0;32mIn[16], line 4\u001b[0m\n\u001b[1;32m      1\u001b[0m \u001b[38;5;66;03m#Membership of a Dictionary\u001b[39;00m\n\u001b[1;32m      2\u001b[0m \n\u001b[1;32m      3\u001b[0m \u001b[38;5;66;03m# identity mapping: \u001b[39;00m\n\u001b[0;32m----> 4\u001b[0m letters_dict \u001b[38;5;241m=\u001b[39m \u001b[38;5;28mdict\u001b[39m([(x, x) \u001b[38;5;28;01mfor\u001b[39;00m x \u001b[38;5;129;01min\u001b[39;00m letters_list])\n",
      "\u001b[0;31mNameError\u001b[0m: name 'letters_list' is not defined"
     ]
    }
   ],
   "source": [
    "#Membership of a Dictionary\n",
    "\n",
    "# identity mapping: \n",
    "letters_dict = dict([(x, x) for x in letters_list])\n",
    "\n",
    "# for k, v in letters_dict.items():\n",
    "#     print(k, \":\", v)"
   ]
  },
  {
   "cell_type": "code",
   "execution_count": null,
   "metadata": {
    "slideshow": {
     "slide_type": "skip"
    }
   },
   "outputs": [],
   "source": [
    "# \"aaa\" in letters_dict\n",
    "# \"zzz\" in letters_dict"
   ]
  },
  {
   "cell_type": "code",
   "execution_count": 37,
   "metadata": {
    "slideshow": {
     "slide_type": "fragment"
    }
   },
   "outputs": [
    {
     "name": "stdout",
     "output_type": "stream",
     "text": [
      "38.7 ns ± 3.31 ns per loop (mean ± std. dev. of 7 runs, 10,000,000 loops each)\n",
      "41.7 ns ± 5.76 ns per loop (mean ± std. dev. of 7 runs, 10,000,000 loops each)\n",
      "40 ns ± 4.88 ns per loop (mean ± std. dev. of 7 runs, 10,000,000 loops each)\n"
     ]
    }
   ],
   "source": [
    "%timeit (\"aaa\" in letters_dict)\n",
    "%timeit (\"mmm\" in letters_dict)\n",
    "%timeit (\"zzz\" in letters_dict)"
   ]
  },
  {
   "cell_type": "markdown",
   "metadata": {
    "slideshow": {
     "slide_type": "slide"
    }
   },
   "source": [
    "### You could also convert a list into a set and check for a membership\n",
    "\n",
    "---"
   ]
  },
  {
   "cell_type": "code",
   "execution_count": 39,
   "metadata": {
    "slideshow": {
     "slide_type": "fragment"
    }
   },
   "outputs": [
    {
     "name": "stdout",
     "output_type": "stream",
     "text": [
      "66.6 ns ± 37.8 ns per loop (mean ± std. dev. of 7 runs, 10,000,000 loops each)\n",
      "40.6 ns ± 6.84 ns per loop (mean ± std. dev. of 7 runs, 10,000,000 loops each)\n",
      "41.9 ns ± 5.81 ns per loop (mean ± std. dev. of 7 runs, 10,000,000 loops each)\n"
     ]
    }
   ],
   "source": [
    "letters_set = set(letters_list)\n",
    "\n",
    "%timeit (\"aaa\" in letters_set)\n",
    "%timeit (\"mmm\" in letters_set)\n",
    "%timeit (\"zzz\" in letters_set)"
   ]
  },
  {
   "cell_type": "code",
   "execution_count": 62,
   "metadata": {},
   "outputs": [
    {
     "name": "stdout",
     "output_type": "stream",
     "text": [
      "True True\n"
     ]
    }
   ],
   "source": [
    "dd = {'a': 1, 'b': 2}\n",
    "ss = {'a', 'b'}\n",
    "\n",
    "print('a' in dd, 'b' in ss)\n"
   ]
  },
  {
   "cell_type": "markdown",
   "metadata": {
    "slideshow": {
     "slide_type": "slide"
    }
   },
   "source": [
    "## String Concatenation"
   ]
  },
  {
   "cell_type": "code",
   "execution_count": 42,
   "metadata": {
    "slideshow": {
     "slide_type": "slide"
    }
   },
   "outputs": [
    {
     "name": "stdout",
     "output_type": "stream",
     "text": [
      "['a', 'b', 'c', 'd', 'e', 'f', 'g', 'h', 'i', 'j', 'k', 'l', 'm', 'n', 'o', 'p', 'q', 'r', 's', 't', 'u', 'v', 'w', 'x', 'y', 'z']\n",
      "abcdefghijklmnopqrstuvwxyz\n"
     ]
    }
   ],
   "source": [
    "def make_string(string_list):\n",
    "    my_string = ''\n",
    "    for character in string_list:\n",
    "        my_string += character\n",
    "    return my_string\n",
    "str_list = [character for character in 'abcdefghijklmnopqrstuvwxyz']\n",
    "print(str_list)\n",
    "print(make_string(str_list))\n"
   ]
  },
  {
   "cell_type": "code",
   "execution_count": 49,
   "metadata": {
    "slideshow": {
     "slide_type": "slide"
    }
   },
   "outputs": [
    {
     "name": "stdout",
     "output_type": "stream",
     "text": [
      "1.36 µs ± 103 ns per loop (mean ± std. dev. of 7 runs, 1,000,000 loops each)\n"
     ]
    }
   ],
   "source": [
    "%timeit make_string(str_list)"
   ]
  },
  {
   "cell_type": "code",
   "execution_count": 50,
   "metadata": {
    "slideshow": {
     "slide_type": "slide"
    }
   },
   "outputs": [
    {
     "name": "stdout",
     "output_type": "stream",
     "text": [
      "231 ns ± 5.26 ns per loop (mean ± std. dev. of 7 runs, 1,000,000 loops each)\n"
     ]
    }
   ],
   "source": [
    "%timeit \"\".join(str_list)"
   ]
  },
  {
   "cell_type": "code",
   "execution_count": 48,
   "metadata": {},
   "outputs": [
    {
     "data": {
      "text/plain": [
       "'a,b,c'"
      ]
     },
     "execution_count": 48,
     "metadata": {},
     "output_type": "execute_result"
    }
   ],
   "source": [
    "','.join(['a', 'b', 'c'])"
   ]
  },
  {
   "cell_type": "code",
   "execution_count": 51,
   "metadata": {},
   "outputs": [
    {
     "data": {
      "text/plain": [
       "['a', 'b', 'c']"
      ]
     },
     "execution_count": 51,
     "metadata": {},
     "output_type": "execute_result"
    }
   ],
   "source": [
    "'a,b,c'.split(',')"
   ]
  },
  {
   "cell_type": "markdown",
   "metadata": {
    "slideshow": {
     "slide_type": "slide"
    }
   },
   "source": [
    "# Decorator Caching"
   ]
  },
  {
   "cell_type": "markdown",
   "metadata": {
    "slideshow": {
     "slide_type": "slide"
    }
   },
   "source": [
    "## Function Decorator\n",
    "\n",
    "\n",
    "\n",
    "---\n",
    "\n",
    "- The symbol **@** is Python decorator syntax. \n",
    "\n",
    "\n",
    "- Python decorators are callable Python object that is used to modify a function, method or class definition.   \n",
    "\n",
    "\n",
    "- Python decorators are normally used for tracking, locking, or logging  \n",
    "\n",
    "\n",
    "- The wise use of decorators can improve the performance of codes.  \n",
    "\n",
    "\n",
    "- Decorate a Python function so that it remembers the results needed later  \n",
    "\n",
    "---"
   ]
  },
  {
   "cell_type": "code",
   "execution_count": 1,
   "metadata": {
    "slideshow": {
     "slide_type": "slide"
    }
   },
   "outputs": [],
   "source": [
    "def decorating_a_function(func):\n",
    "    def function_wrapper(x):\n",
    "        print(\"Now \\\"\" + func.__name__ + \"\\\" becomes decorated.\")\n",
    "        print(\"The attribute:\")\n",
    "        func(x)\n",
    "        print(\"is surrounded by all these text!\")\n",
    "    return function_wrapper\n",
    "\n",
    "def foo(x):\n",
    "    print(x)"
   ]
  },
  {
   "cell_type": "code",
   "execution_count": 2,
   "metadata": {
    "slideshow": {
     "slide_type": "slide"
    }
   },
   "outputs": [
    {
     "name": "stdout",
     "output_type": "stream",
     "text": [
      "test\n",
      "--------------------------------------------------\n",
      "function_name: foo\n"
     ]
    }
   ],
   "source": [
    "# run the function\n",
    "foo(\"test\")\n",
    "\n",
    "# separator\n",
    "print(\"-\" * 50)\n",
    "\n",
    "# get the function name\n",
    "print(\"function_name:\", foo.__name__)"
   ]
  },
  {
   "cell_type": "code",
   "execution_count": 64,
   "metadata": {
    "slideshow": {
     "slide_type": "slide"
    }
   },
   "outputs": [
    {
     "name": "stdout",
     "output_type": "stream",
     "text": [
      "Now \"foo\" becomes decorated.\n",
      "The attribute:\n",
      "hello\n",
      "is surrounded by all these text!\n",
      "--------------------------------------------------\n",
      "function_wrapper\n"
     ]
    }
   ],
   "source": [
    "foo = decorating_a_function(foo)\n",
    "\n",
    "# run the function\n",
    "foo(\"hello\")\n",
    "\n",
    "# separator\n",
    "print(\"-\" * 50)\n",
    "\n",
    "# get the function name\n",
    "print(foo.__name__)"
   ]
  },
  {
   "cell_type": "code",
   "execution_count": 60,
   "metadata": {
    "slideshow": {
     "slide_type": "slide"
    }
   },
   "outputs": [],
   "source": [
    "def decorating_a_function(func):\n",
    "    def function_wrapper(x):\n",
    "        print(\"Now the function called \\\"\" + func.__name__ + \"\\\" becomes decorated.\")\n",
    "        print(\"The attribute of the function:\")\n",
    "        func(x)\n",
    "        print(\"is surrounded by all this text!\")\n",
    "    return function_wrapper\n",
    "\n",
    "@decorating_a_function\n",
    "def foo(x):\n",
    "    print(x)"
   ]
  },
  {
   "cell_type": "code",
   "execution_count": 72,
   "metadata": {
    "slideshow": {
     "slide_type": "slide"
    }
   },
   "outputs": [
    {
     "name": "stdout",
     "output_type": "stream",
     "text": [
      "Now the function called \"foo\" becomes decorated.\n",
      "The attribute of the function:\n",
      "test\n",
      "is surrounded by all this text!\n"
     ]
    }
   ],
   "source": [
    "# Test 1:\n",
    "foo(\"test\")"
   ]
  },
  {
   "cell_type": "code",
   "execution_count": 74,
   "metadata": {
    "slideshow": {
     "slide_type": "slide"
    }
   },
   "outputs": [
    {
     "name": "stdout",
     "output_type": "stream",
     "text": [
      "function_wrapper\n"
     ]
    }
   ],
   "source": [
    "# Test 2:\n",
    "print(foo.__name__)"
   ]
  },
  {
   "cell_type": "markdown",
   "metadata": {
    "slideshow": {
     "slide_type": "slide"
    }
   },
   "source": [
    "## Imported functions can also be decorated"
   ]
  },
  {
   "cell_type": "code",
   "execution_count": 86,
   "metadata": {
    "slideshow": {
     "slide_type": "slide"
    }
   },
   "outputs": [
    {
     "name": "stdout",
     "output_type": "stream",
     "text": [
      "The result of sin(1.5708) is: 1.0000\n",
      "The result of cos(1.5708) is: 0.0000\n",
      "The result of sin(3.1416) is: 0.0000\n",
      "The result of cos(3.1416) is: -1.0000\n"
     ]
    }
   ],
   "source": [
    "from math import sin, cos, pi\n",
    "\n",
    "def our_decorator(func):\n",
    "    def function_wrapper(x):\n",
    "        val = func(x)\n",
    "        print(\"The result of %s(%0.4f) is: %0.4f\" % (func.__name__, x, val))\n",
    "        return val\n",
    "    return function_wrapper\n",
    "\n",
    "# in this case is not possible to use @\n",
    "sin = our_decorator(sin)\n",
    "cos = our_decorator(cos)\n",
    "\n",
    "for f in [sin, cos]: f(pi/2)\n",
    "\n",
    "for f in [sin, cos]: f(pi)\n",
    "    \n"
   ]
  },
  {
   "cell_type": "markdown",
   "metadata": {
    "slideshow": {
     "slide_type": "slide"
    }
   },
   "source": [
    "## Using wraps from module functools\n",
    "\n",
    "- a module with higher-order functions and operations on callable objects"
   ]
  },
  {
   "cell_type": "code",
   "execution_count": 76,
   "metadata": {
    "slideshow": {
     "slide_type": "slide"
    }
   },
   "outputs": [],
   "source": [
    "from functools import wraps\n",
    "\n",
    "def greeting(func):\n",
    "    @wraps(func)\n",
    "    def function_wrapper(x):\n",
    "        \"\"\"function_wrapper of greeting\"\"\"\n",
    "        print(\"Hello, this function \" + func.__name__ + \" at value \" + str(x) + \" returns:\", func(x))\n",
    "    \n",
    "    return function_wrapper\n",
    "\n",
    "@greeting\n",
    "def simple_f(x):\n",
    "    \"\"\"add 500\"\"\"\n",
    "    return (x + 500)"
   ]
  },
  {
   "cell_type": "code",
   "execution_count": 77,
   "metadata": {
    "slideshow": {
     "slide_type": "slide"
    }
   },
   "outputs": [
    {
     "name": "stdout",
     "output_type": "stream",
     "text": [
      "Hello, this function simple_f at value 10 returns: 510\n"
     ]
    }
   ],
   "source": [
    "#call simple_f\n",
    "simple_f(10)"
   ]
  },
  {
   "cell_type": "code",
   "execution_count": 78,
   "metadata": {
    "slideshow": {
     "slide_type": "slide"
    }
   },
   "outputs": [
    {
     "name": "stdout",
     "output_type": "stream",
     "text": [
      "function name: simple_f\n",
      "docstring: add 500\n",
      "module name: __main__\n"
     ]
    }
   ],
   "source": [
    "print(\"function name: \" + simple_f.__name__)\n",
    "print(\"docstring: \" + simple_f.__doc__)\n",
    "print(\"module name: \" + simple_f.__module__)"
   ]
  },
  {
   "cell_type": "code",
   "execution_count": 79,
   "metadata": {},
   "outputs": [],
   "source": [
    "from functools import wraps\n",
    "\n",
    "def greeting(func):\n",
    "    def function_wrapper(x):\n",
    "        \"\"\"function_wrapper of greeting\"\"\"\n",
    "        print(\"Hello, this function \" + func.__name__ + \" at value \" + str(x) + \" returns:\", func(x))\n",
    "    \n",
    "    return function_wrapper\n",
    "\n",
    "@greeting\n",
    "def simple_f(x):\n",
    "    \"\"\"add 500\"\"\"\n",
    "    return (x + 500)"
   ]
  },
  {
   "cell_type": "code",
   "execution_count": 81,
   "metadata": {},
   "outputs": [
    {
     "name": "stdout",
     "output_type": "stream",
     "text": [
      "function name: function_wrapper\n",
      "docstring: function_wrapper of greeting\n",
      "module name: __main__\n"
     ]
    }
   ],
   "source": [
    "print(\"function name: \" + simple_f.__name__)\n",
    "print(\"docstring: \" + simple_f.__doc__)\n",
    "print(\"module name: \" + simple_f.__module__)"
   ]
  },
  {
   "cell_type": "markdown",
   "metadata": {
    "slideshow": {
     "slide_type": "slide"
    }
   },
   "source": [
    "# Using Decorators for Caching"
   ]
  },
  {
   "cell_type": "code",
   "execution_count": 20,
   "metadata": {
    "slideshow": {
     "slide_type": "slide"
    }
   },
   "outputs": [
    {
     "name": "stdout",
     "output_type": "stream",
     "text": [
      "fibonacci time: 0.2500000000; fib_result: 832040\n"
     ]
    }
   ],
   "source": [
    "import time\n",
    "\n",
    "# Consider Fibonacci numbers: \n",
    "# defined as f_n = f_{n - 1} + f_{n - 2} for n >=2 \n",
    "# where f_0 = 0 and f_1 = 1\n",
    "# https://en.wikipedia.org/wiki/Fibonacci_number\n",
    "    \n",
    "\n",
    "# a simple recursion: \n",
    "def fib(i):\n",
    "    if i <= 1: return i\n",
    "    return fib(i - 1) + fib(i - 2)\n",
    "\n",
    "#0, 1, 1, 2, 3, 5, 8, 13, 21, 34, ...\n",
    "\n",
    "t = time.process_time()\n",
    "fib_result = fib(30)\n",
    "elapsed_time = time.process_time() - t\n",
    "print(\"fibonacci time: %0.10f; fib_result: %d\" % (elapsed_time, fib_result))"
   ]
  },
  {
   "cell_type": "markdown",
   "metadata": {
    "slideshow": {
     "slide_type": "slide"
    }
   },
   "source": [
    "# Memoization"
   ]
  },
  {
   "cell_type": "code",
   "execution_count": 28,
   "metadata": {
    "slideshow": {
     "slide_type": "slide"
    }
   },
   "outputs": [
    {
     "name": "stdout",
     "output_type": "stream",
     "text": [
      "fibonacci time: 0.0000000000; fib_result: 354224848179261915075\n"
     ]
    }
   ],
   "source": [
    "# The idea is a memoization: \n",
    "# introduce a map (dictionary) \"memo\"\n",
    "# in which to save intermediate steps\n",
    "# of calculations\n",
    "\n",
    "def fib_memo(i, memo=dict()):\n",
    "    if i <= 1: return i\n",
    "    if i in memo: return memo[i]\n",
    "\n",
    "    memo[i] = fib_memo(i - 1, memo) + fib_memo(i - 2, memo)\n",
    "    return memo[i]\n",
    "\n",
    "t = time.process_time() \n",
    "fib_m = fib_memo(1000)\n",
    "elapsed_time_memo = time.process_time() - t\n",
    "print(\"fibonacci time: %0.10f; fib_result: %d\" % (elapsed_time_memo, fib_m))"
   ]
  },
  {
   "cell_type": "code",
   "execution_count": 29,
   "metadata": {
    "slideshow": {
     "slide_type": "slide"
    }
   },
   "outputs": [
    {
     "name": "stdout",
     "output_type": "stream",
     "text": [
      "fibonacci time: 0.0000000000; result: 832040\n"
     ]
    }
   ],
   "source": [
    "# We can create a decorator that saves:\n",
    "# each intermediate value in memory \n",
    "# rather than calculating it every time.\n",
    "\n",
    "from functools import wraps\n",
    "\n",
    "def cache(f):\n",
    "    memo = {}\n",
    "    @wraps(f)\n",
    "    def function_wrapper(*arg):\n",
    "        if arg not in memo:\n",
    "            memo[arg] = f(*arg)\n",
    "        return memo[arg]\n",
    "    \n",
    "    return function_wrapper\n",
    "\n",
    "@cache\n",
    "def fib_cache(i):\n",
    "    if i < 2: return i\n",
    "    return fib_cache(i - 1) + fib_cache(i - 2)\n",
    "\n",
    "\n",
    "t = time.process_time() \n",
    "fib_c = fib_cache(30)\n",
    "elapsed_time_c = time.process_time() - t\n",
    "print(\"fibonacci time: %0.10f; result: %d\" % (elapsed_time_c, fib_c))"
   ]
  },
  {
   "cell_type": "code",
   "execution_count": 33,
   "metadata": {},
   "outputs": [
    {
     "name": "stdout",
     "output_type": "stream",
     "text": [
      "5\n",
      "10\n",
      "17\n",
      "26\n"
     ]
    }
   ],
   "source": [
    "def add(*numbers):\n",
    "    return sum(numbers)\n",
    "\n",
    "print(add(2, 3))\n",
    "print(add(2, 3, 5))\n",
    "print(add(2, 3, 5, 7))\n",
    "print(add(2, 3, 5, 7, 9))"
   ]
  },
  {
   "cell_type": "markdown",
   "metadata": {
    "slideshow": {
     "slide_type": "slide"
    }
   },
   "source": [
    "# Optimizing Loops"
   ]
  },
  {
   "cell_type": "code",
   "execution_count": 35,
   "metadata": {
    "slideshow": {
     "slide_type": "slide"
    }
   },
   "outputs": [
    {
     "data": {
      "text/plain": [
       "['abcdefghijklmnopqrs',\n",
       " 'abcdefghij',\n",
       " 'abcd',\n",
       " 'abc',\n",
       " 'abcdefghijklmnopqrst',\n",
       " 'abcdefghijklmnopq',\n",
       " 'abcd',\n",
       " 'abc',\n",
       " 'abcdefghijklmnopqr',\n",
       " 'abcdefghijklmnopqrstuvwxy',\n",
       " 'abcdefghijkl',\n",
       " 'abcdefghijkl',\n",
       " 'abcdefgh',\n",
       " 'abcdefghijklmnopqr',\n",
       " 'abcdefghijklmnopqrstuvwxy',\n",
       " 'abcdefghijklmnopqrstuvwx',\n",
       " 'abcdefghijklmnopqr',\n",
       " 'abcdefghijklmnopqrstuvwx',\n",
       " 'abcdefghij',\n",
       " 'abcdefghijklmnopq']"
      ]
     },
     "execution_count": 35,
     "metadata": {},
     "output_type": "execute_result"
    }
   ],
   "source": [
    "import random\n",
    "\n",
    "lowerlist = ['abcdefghijklmnopqrstuvwxyz'[:random.randint(0, 26)] for x in range(1000)]\n",
    "upperlist = []\n",
    "\n",
    "# get firs 20 elements\n",
    "lowerlist[ : 20]"
   ]
  },
  {
   "cell_type": "markdown",
   "metadata": {
    "slideshow": {
     "slide_type": "slide"
    }
   },
   "source": [
    "### Task: From the lowerlist build the upperlist"
   ]
  },
  {
   "cell_type": "code",
   "execution_count": 96,
   "metadata": {},
   "outputs": [
    {
     "name": "stdout",
     "output_type": "stream",
     "text": [
      "HELLO\n",
      "HELLO\n"
     ]
    }
   ],
   "source": [
    "print('hello'.upper())\n",
    "print(str.upper('hello'))"
   ]
  },
  {
   "cell_type": "code",
   "execution_count": 97,
   "metadata": {},
   "outputs": [
    {
     "data": {
      "text/plain": [
       "1000"
      ]
     },
     "execution_count": 97,
     "metadata": {},
     "output_type": "execute_result"
    }
   ],
   "source": [
    "len(lowerlist)"
   ]
  },
  {
   "cell_type": "code",
   "execution_count": 143,
   "metadata": {
    "slideshow": {
     "slide_type": "slide"
    }
   },
   "outputs": [
    {
     "name": "stdout",
     "output_type": "stream",
     "text": [
      "98.9 µs ± 12.8 µs per loop (mean ± std. dev. of 7 runs, 1,000 loops each)\n"
     ]
    }
   ],
   "source": [
    "upperlist = []\n",
    "\n",
    "def to_upper_1():\n",
    "    for word in lowerlist:\n",
    "        upperlist.append(str.upper(word))\n",
    "    return upperlist\n",
    "\n",
    "%timeit -n 1000 to_upper_1()"
   ]
  },
  {
   "cell_type": "markdown",
   "metadata": {
    "slideshow": {
     "slide_type": "slide"
    }
   },
   "source": [
    "- The loop calls two methods: \"upperlist.append\" and \"str.upper\" every time. \n",
    "\n",
    "- Python must support dynamic attributes as well as multiple namespaces. \n"
   ]
  },
  {
   "cell_type": "code",
   "execution_count": 144,
   "metadata": {
    "slideshow": {
     "slide_type": "slide"
    }
   },
   "outputs": [
    {
     "name": "stdout",
     "output_type": "stream",
     "text": [
      "67.3 µs ± 5.78 µs per loop (mean ± std. dev. of 7 runs, 1,000 loops each)\n"
     ]
    }
   ],
   "source": [
    "\n",
    "upperlist = []\n",
    "f_upper = str.upper\n",
    "f_append = upperlist.append\n",
    "\n",
    "def to_upper_2():\n",
    "    for word in lowerlist:\n",
    "        f_append(f_upper(word))\n",
    "\n",
    "%timeit -n 1000 to_upper_2()"
   ]
  },
  {
   "cell_type": "code",
   "execution_count": 145,
   "metadata": {
    "slideshow": {
     "slide_type": "slide"
    }
   },
   "outputs": [
    {
     "name": "stdout",
     "output_type": "stream",
     "text": [
      "68.7 µs ± 8.92 µs per loop (mean ± std. dev. of 7 runs, 1,000 loops each)\n"
     ]
    }
   ],
   "source": [
    "\n",
    "def to_upper_3():\n",
    "    upperlist = []\n",
    "    f_upper = str.upper\n",
    "    f_append = upperlist.append\n",
    "\n",
    "    for word in lowerlist:\n",
    "        f_append(f_upper(word))\n",
    "\n",
    "%timeit -n 1000 to_upper_3()"
   ]
  },
  {
   "cell_type": "markdown",
   "metadata": {
    "slideshow": {
     "slide_type": "slide"
    }
   },
   "source": [
    "### Avoid the loop"
   ]
  },
  {
   "cell_type": "code",
   "execution_count": 137,
   "metadata": {
    "slideshow": {
     "slide_type": "slide"
    }
   },
   "outputs": [
    {
     "data": {
      "text/plain": [
       "[100, 101, 102, 103, 104, 105, 106, 107, 108, 109, 110]"
      ]
     },
     "execution_count": 137,
     "metadata": {},
     "output_type": "execute_result"
    }
   ],
   "source": [
    "# A \"map\" is often called \"apply-to-all\" when considered in functional form;\n",
    "# e.g. a map applied on all elements of a list\n",
    "\n",
    "# def f(x):\n",
    "#     return x + 100\n",
    "\n",
    "simple_mapping = map(lambda x : x + 100, [0, 1, 2, 3, 4, 5, 6, 7, 8, 9, 10])\n",
    "\n",
    "list(simple_mapping)"
   ]
  },
  {
   "cell_type": "code",
   "execution_count": 138,
   "metadata": {
    "slideshow": {
     "slide_type": "slide"
    }
   },
   "outputs": [
    {
     "name": "stdout",
     "output_type": "stream",
     "text": [
      "abcdefghijklmnopqrstu ABCDEFGHIJKLMNOPQRSTU\n"
     ]
    }
   ],
   "source": [
    "# Apply the method \"upper\" on strings\n",
    "\n",
    "print(lowerlist[0], str.upper(lowerlist[0]))"
   ]
  },
  {
   "cell_type": "code",
   "execution_count": 148,
   "metadata": {
    "slideshow": {
     "slide_type": "slide"
    }
   },
   "outputs": [
    {
     "name": "stdout",
     "output_type": "stream",
     "text": [
      "40 µs ± 8.46 µs per loop (mean ± std. dev. of 7 runs, 1,000 loops each)\n"
     ]
    }
   ],
   "source": [
    "\n",
    "# avoiding the loop by using \"map\"\n",
    "upper = str.upper\n",
    "\n",
    "%timeit -n 1000 upperlist = list(map(str.upper, lowerlist))"
   ]
  },
  {
   "cell_type": "code",
   "execution_count": 149,
   "metadata": {
    "slideshow": {
     "slide_type": "slide"
    }
   },
   "outputs": [
    {
     "name": "stdout",
     "output_type": "stream",
     "text": [
      "58.9 µs ± 12.6 µs per loop (mean ± std. dev. of 7 runs, 1,000 loops each)\n"
     ]
    }
   ],
   "source": [
    "\n",
    "# avoiding the loop by using \"list comprehension\"\n",
    "f_upper = str.upper \n",
    "%timeit -n 1000 upperlist = [f_upper(word) for word in lowerlist]"
   ]
  },
  {
   "cell_type": "code",
   "execution_count": 153,
   "metadata": {
    "slideshow": {
     "slide_type": "slide"
    }
   },
   "outputs": [
    {
     "name": "stdout",
     "output_type": "stream",
     "text": [
      "5.75 ms ± 44.4 µs per loop (mean ± std. dev. of 7 runs, 100 loops each)\n"
     ]
    }
   ],
   "source": [
    "# add two random vectors; given as lists\n",
    "\n",
    "import random \n",
    "\n",
    "random_numbers1 = [random.random() for _ in range(0,100000)]\n",
    "random_numbers2 = [random.random() for _ in range(0,100000)]\n",
    "\n",
    "%timeit res1 = list(map(lambda x, y: x + y, random_numbers1, random_numbers2))\n",
    "\n",
    "# However map is calling our function as \"adding two vectors\" not as \"cross product\" "
   ]
  },
  {
   "cell_type": "code",
   "execution_count": 151,
   "metadata": {
    "slideshow": {
     "slide_type": "slide"
    }
   },
   "outputs": [
    {
     "data": {
      "text/plain": [
       "100000"
      ]
     },
     "execution_count": 151,
     "metadata": {},
     "output_type": "execute_result"
    }
   ],
   "source": [
    "len(list(map(lambda x, y: x + y, random_numbers1, random_numbers2)))"
   ]
  },
  {
   "cell_type": "markdown",
   "metadata": {
    "slideshow": {
     "slide_type": "slide"
    }
   },
   "source": [
    "## Intrinsic Opertors\n",
    "\n",
    "- Another performance improvement is to use intrinsic operators (+, -, *, etc.) instead of a user defined function.  \n",
    "\n",
    "\n",
    "- The operator module exports a set of efficient functions corresponding to the intrinsic operators of Python.   \n",
    "\n",
    "\n",
    "- operator.add(x, y) is equivalent to the expression x + y.   \n",
    "\n",
    "\n",
    "- `import operator`\n",
    "\n",
    "https://docs.python.org/3.4/library/operator.html"
   ]
  },
  {
   "cell_type": "code",
   "execution_count": 154,
   "metadata": {
    "slideshow": {
     "slide_type": "slide"
    }
   },
   "outputs": [
    {
     "name": "stdout",
     "output_type": "stream",
     "text": [
      "2.68 ms ± 14.1 µs per loop (mean ± std. dev. of 7 runs, 100 loops each)\n"
     ]
    }
   ],
   "source": [
    "import operator\n",
    "\n",
    "%timeit res2 = list(map(operator.add, random_numbers1, random_numbers2))"
   ]
  },
  {
   "cell_type": "markdown",
   "metadata": {
    "slideshow": {
     "slide_type": "fragment"
    }
   },
   "source": [
    "### using maps\n",
    "\n",
    "- In Python 3.5, **the map function returns an iterator that does not evaluate the arguments until it needs to**. \n",
    "\n",
    "-  By converting the iterator to a list, we are forcing map to compute every value.\n"
   ]
  },
  {
   "cell_type": "code",
   "execution_count": 155,
   "metadata": {
    "slideshow": {
     "slide_type": "slide"
    }
   },
   "outputs": [
    {
     "name": "stdout",
     "output_type": "stream",
     "text": [
      "411 µs ± 4.14 µs per loop (mean ± std. dev. of 7 runs, 1,000 loops each)\n"
     ]
    }
   ],
   "source": [
    "#Instead here we use the operator \"add\" directly without \"map\":\n",
    "\n",
    "%timeit res3 = operator.add(random_numbers1, random_numbers2)"
   ]
  },
  {
   "cell_type": "code",
   "execution_count": 158,
   "metadata": {
    "slideshow": {
     "slide_type": "slide"
    }
   },
   "outputs": [
    {
     "name": "stdout",
     "output_type": "stream",
     "text": [
      "31.2 µs ± 379 ns per loop (mean ± std. dev. of 7 runs, 10,000 loops each)\n"
     ]
    }
   ],
   "source": [
    "# Using numpy: exploit contiguous memory, special instructions\n",
    "\n",
    "import numpy as np\n",
    "\n",
    "rand1_np = np.array(random_numbers1)\n",
    "rand2_np = np.array(random_numbers2)\n",
    "\n",
    "%timeit res4 = rand1_np + rand2_np"
   ]
  },
  {
   "cell_type": "code",
   "execution_count": 159,
   "metadata": {
    "slideshow": {
     "slide_type": "slide"
    }
   },
   "outputs": [
    {
     "name": "stdout",
     "output_type": "stream",
     "text": [
      "43.9 µs ± 186 ns per loop (mean ± std. dev. of 7 runs, 10,000 loops each)\n"
     ]
    }
   ],
   "source": [
    "# Using Python arrays (if you don't have Numpy...)\n",
    "\n",
    "import array\n",
    "\n",
    "rand1_arr = array.array('d', random_numbers1)\n",
    "rand2_arr = array.array('d', random_numbers2)\n",
    "\n",
    "%timeit res5 = operator.add(rand1_arr, rand2_arr)"
   ]
  }
 ],
 "metadata": {
  "celltoolbar": "Slideshow",
  "kernelspec": {
   "display_name": "Python 3 (ipykernel)",
   "language": "python",
   "name": "python3"
  },
  "language_info": {
   "codemirror_mode": {
    "name": "ipython",
    "version": 3
   },
   "file_extension": ".py",
   "mimetype": "text/x-python",
   "name": "python",
   "nbconvert_exporter": "python",
   "pygments_lexer": "ipython3",
   "version": "3.11.4"
  }
 },
 "nbformat": 4,
 "nbformat_minor": 4
}
