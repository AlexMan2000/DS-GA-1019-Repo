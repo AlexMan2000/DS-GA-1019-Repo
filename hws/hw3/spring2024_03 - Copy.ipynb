{
 "cells": [
  {
   "cell_type": "markdown",
   "metadata": {
    "id": "P44BDrijVvPL"
   },
   "source": [
    "## Homework 03\n",
    "\n",
    "### Due Date: Feb 14, 2024, 6:00PM\n",
    "\n",
    "### Student's Name: Jiasheng Ni\n",
    "\n",
    "### Student's e-mail: jn2294@nyu.edu"
   ]
  },
  {
   "cell_type": "markdown",
   "metadata": {
    "id": "UzQmOoqPVvPN"
   },
   "source": [
    "### Problem 1. (15 points)\n",
    "\n",
    "- 1.1. (5 points)    \n",
    "By using **count from itertools** make a generator which produces all numbers from 0 to 1000 (including the two) divisible by 5. \n",
    "\n",
    "- 1.2. (5 points)  \n",
    "From the obtained generator produce a list of numbers that are not divisible by 25. \n",
    "\n",
    "- 1.3. (5 points)  \n",
    "Print the list and the length of the list.\n",
    "\n",
    "\n"
   ]
  },
  {
   "cell_type": "code",
   "execution_count": 5,
   "metadata": {},
   "outputs": [],
   "source": [
    "from itertools import count"
   ]
  },
  {
   "cell_type": "code",
   "execution_count": 6,
   "metadata": {},
   "outputs": [],
   "source": [
    "def divisionFiveGenerator():    \n",
    "    for i in count(0, 5):\n",
    "        if i <= 1000:\n",
    "            yield i\n",
    "        else:\n",
    "            break"
   ]
  },
  {
   "cell_type": "code",
   "execution_count": 10,
   "metadata": {},
   "outputs": [],
   "source": [
    "def produceList(factor):\n",
    "    list_ = []\n",
    "    for elem in divisionFiveGenerator():\n",
    "        if elem % factor != 0:\n",
    "            list_.append(elem)\n",
    "            \n",
    "    return list_"
   ]
  },
  {
   "cell_type": "code",
   "execution_count": 11,
   "metadata": {},
   "outputs": [
    {
     "name": "stdout",
     "output_type": "stream",
     "text": [
      "[5, 10, 15, 20, 30, 35, 40, 45, 55, 60, 65, 70, 80, 85, 90, 95, 105, 110, 115, 120, 130, 135, 140, 145, 155, 160, 165, 170, 180, 185, 190, 195, 205, 210, 215, 220, 230, 235, 240, 245, 255, 260, 265, 270, 280, 285, 290, 295, 305, 310, 315, 320, 330, 335, 340, 345, 355, 360, 365, 370, 380, 385, 390, 395, 405, 410, 415, 420, 430, 435, 440, 445, 455, 460, 465, 470, 480, 485, 490, 495, 505, 510, 515, 520, 530, 535, 540, 545, 555, 560, 565, 570, 580, 585, 590, 595, 605, 610, 615, 620, 630, 635, 640, 645, 655, 660, 665, 670, 680, 685, 690, 695, 705, 710, 715, 720, 730, 735, 740, 745, 755, 760, 765, 770, 780, 785, 790, 795, 805, 810, 815, 820, 830, 835, 840, 845, 855, 860, 865, 870, 880, 885, 890, 895, 905, 910, 915, 920, 930, 935, 940, 945, 955, 960, 965, 970, 980, 985, 990, 995] 160\n"
     ]
    }
   ],
   "source": [
    "listproduced = produceList(25)\n",
    "print(listproduced, len(listproduced))"
   ]
  },
  {
   "cell_type": "markdown",
   "metadata": {
    "id": "5_NDM15NVvPP"
   },
   "source": [
    "## Problem 2. (20 points) \n",
    "\n",
    "Write three functions to calculate n! (n factorial) for a given non-negative integer n: \n",
    "\n",
    "- 2.1 (5 points)  \n",
    "f_rec(n) in a recursive way  (in a simplest way without memoization)  \n",
    "\n",
    "- 2.2 (5 points)  \n",
    "- f_it(n) in an iterative way  \n",
    "\n",
    "- 2.3 (10 points)  \n",
    "- f_acc(n) by using \"accumulate\" from itertools. \n",
    "\n",
    "\n",
    "Note the ratios of the expected run-times: \n",
    "1. f_rec(n=1000) and f_it(n=1000)  \n",
    "and \n",
    "2. f_acc(n=1000) and f_it(n=1000)\n"
   ]
  },
  {
   "cell_type": "code",
   "execution_count": 1,
   "metadata": {},
   "outputs": [],
   "source": [
    "def f_rec(n):\n",
    "    if n < 0:\n",
    "        raise ValueError(\"Negative Input!\")\n",
    "    if n == 1:\n",
    "        return 1\n",
    "    return f_rec(n - 1) * n\n",
    "\n",
    "def f_it(n):\n",
    "    if n < 0:\n",
    "        raise ValueError(\"Negative Input!\")\n",
    "    prod = 1\n",
    "    for i in range(1, n + 1):\n",
    "        prod *= i\n",
    "    return prod\n",
    "\n",
    "from itertools import accumulate\n",
    "import operator\n",
    "\n",
    "def f_acc(n):\n",
    "    return list(accumulate(range(1, n + 1), operator.mul))[-1]"
   ]
  },
  {
   "cell_type": "code",
   "execution_count": 5,
   "metadata": {},
   "outputs": [
    {
     "name": "stdout",
     "output_type": "stream",
     "text": [
      "566 µs ± 1.19 µs per loop (mean ± std. dev. of 7 runs, 1,000 loops each)\n",
      "425 µs ± 1.15 µs per loop (mean ± std. dev. of 7 runs, 1,000 loops each)\n"
     ]
    }
   ],
   "source": [
    "%timeit -n 1000 -r 7 f_rec(1000) \n",
    "%timeit -n 1000 -r 7 f_it(1000) "
   ]
  },
  {
   "cell_type": "code",
   "execution_count": 4,
   "metadata": {},
   "outputs": [
    {
     "name": "stdout",
     "output_type": "stream",
     "text": [
      "443 µs ± 1.94 µs per loop (mean ± std. dev. of 7 runs, 1,000 loops each)\n",
      "426 µs ± 984 ns per loop (mean ± std. dev. of 7 runs, 1,000 loops each)\n"
     ]
    }
   ],
   "source": [
    "%timeit -n 1000 -r 7 f_acc(1000) \n",
    "%timeit -n 1000 -r 7 f_it(1000) "
   ]
  },
  {
   "cell_type": "markdown",
   "metadata": {
    "id": "42RGFHX-VvPQ"
   },
   "source": [
    "# Problem 3 (35 points) \n",
    "\n",
    "- 3.1 (5 points)  \n",
    "Write a function  `perm_generator(n)`, which for a given positive integer $n$, returns a generator with all permutations of the set  $\\{0, 1, 2 , \\dots n - 1\\}$.\n",
    "\n",
    "\n",
    "- 3.2 (10 points)  \n",
    "Write a function  `comb_generator(n, k)`, which for given non-negative integers $n, k$ where $n  \\geq k$, returns a generator with all combinations of size $k$ on the set  $\\{0, 1, 2 , \\dots n - 1\\}$.\n",
    "\n",
    "\n",
    "- 3.3 (20 points)    \n",
    "Write a function `h_generator(n)`,  which for a given positive integer $n$, returns a generator with all permutations of the set  $\\{0, 1, 2 , \\dots n - 1\\}$ such that for all  $i = 0, 1, 2, \\dots, n−1$ the number $i$ is not at the $i$-th position. \n",
    "\n",
    "- 3.3. Example: For $n=3$, there are  $3!=6$  permutations $(0, 1, 2), (0, 2, 1), (1, 0, 2), (1, 2, 0), (2, 0, 1), (2, 1, 0)$. And `h_generator(n)` should return the generator with permutations $(1, 2, 0)$ and $(2, 0, 1)$.  For example, $(2, 1, 0)$ cannot be included since here $1$ is at the $1$-st position. \n",
    "\n"
   ]
  },
  {
   "cell_type": "code",
   "execution_count": 53,
   "metadata": {},
   "outputs": [],
   "source": [
    "from itertools import permutations\n",
    "\n",
    "def perm_generator_bottom_up(n):\n",
    "    # bottom up\n",
    "    def generate_perms(seq):\n",
    "        if not seq:\n",
    "            yield []\n",
    "        else:\n",
    "            for perm in generate_perms(seq[1:]):\n",
    "                for i in range(len(seq)):\n",
    "                    yield perm[:i] + [seq[0]] + perm[i:]\n",
    "\n",
    "    return generate_perms(list(range(n)))\n",
    "\n",
    "def perm_generator_top_down(n):\n",
    "    # Top down\n",
    "    def generate_perms(seq, path):\n",
    "        if len(path) == n:\n",
    "            yield path\n",
    "        else:\n",
    "            for i in range(len(seq)):\n",
    "                yield from generate_perms(seq[:i]+seq[i+1:], path + [seq[i]])\n",
    "            \n",
    "    return generate_perms(list(range(n)),[])\n",
    "\n",
    "n = 5\n",
    "assert len(list(perm_generator_bottom_up(n))) == len(list(permutations(range(n))))\n",
    "assert len(list(perm_generator_top_down(n))) == len(list(permutations(range(n))))"
   ]
  },
  {
   "cell_type": "code",
   "execution_count": 47,
   "metadata": {},
   "outputs": [],
   "source": [
    "from itertools import combinations\n",
    "    \n",
    "def comb_generator_bottom_up(n, k):\n",
    "    def generate_combs(seq, k):\n",
    "        # Bottom Up Approach, need to take care of the length of the result generated\n",
    "        if not seq or k == 0:\n",
    "            yield []\n",
    "        else:\n",
    "            for combination in generate_combs(seq[1:], k - 1):\n",
    "                yield [seq[0]] + combination\n",
    "            yield from generate_combs(seq[1:], k)\n",
    "                \n",
    "    for elem in generate_combs(list(range(n)), k):\n",
    "        if len(elem) == k:\n",
    "            yield elem\n",
    "            \n",
    "def comb_generator_top_down(n, k):\n",
    "    def generate_combs(start, comb):\n",
    "        # Top Down Approach\n",
    "        if len(comb) == k:\n",
    "            yield comb\n",
    "        for i in range(start, n):\n",
    "            yield from generate_combs(i+1, comb+[i])\n",
    "    \n",
    "    yield from generate_combs(0, [])\n",
    "            \n",
    "\n",
    "n = 5\n",
    "k = 3\n",
    "\n",
    "assert len(list(comb_generator_bottom_up(n, k))) == len(list(combinations(range(n), k)))\n",
    "assert len(list(comb_generator_top_down(n, k))) == len(list(combinations(range(n), k)))"
   ]
  },
  {
   "cell_type": "code",
   "execution_count": 57,
   "metadata": {},
   "outputs": [],
   "source": [
    "def h_generator(n):\n",
    "    # Top down\n",
    "    def generate_perms(seq, path):\n",
    "        if len(path) == n:\n",
    "            yield path\n",
    "        else:\n",
    "            for i in range(len(seq)):\n",
    "                if seq[i] != len(path):\n",
    "                    yield from generate_perms(seq[:i]+seq[i+1:], path + [seq[i]])\n",
    "            \n",
    "    return generate_perms(list(range(n)),[])\n",
    "\n",
    "n = 3\n",
    "assert len(list(h_generator(n))) == 2"
   ]
  },
  {
   "cell_type": "markdown",
   "metadata": {
    "id": "oJlUwnKVVvPR"
   },
   "source": [
    "## Problem 4 (30 points) \n",
    "\n",
    "\n",
    "By using **starmap** from **itertools** write a function that returns a generator that produces all distances for a given input list of points, in the two-dimensional coordinate system.\n",
    "\n",
    "In more detail, for a given input list of points $\\textrm{list\\_of\\_points} = [p_0, p_1, \\dots, p_{n - 1}]$, write a function: \n",
    "\n",
    "$$\\textrm{f\\_distances(list of points)}$$\n",
    "\n",
    "that returns a generator that produces tuples $(p_i, p_j, ||p_i - p_j||)$, (where each tuple stores the point i, point j and their Euclidean distance). (There are $n(n - 1) / 2$ tuples.)\n",
    "\n",
    "\n",
    "For example: \n",
    "\n",
    "- input: For 3 points as $\\textrm{list\\_of\\_points} = [(0, 0), (0, 1), (1, 0)]$\n",
    "\n",
    "- output: A generator that produces ${3 \\choose 2} = 3$ tuples: $((0, 0), (0, 1), 1); ((0, 0), (1, 0), 1); ((0, 1), (1, 0), \\sqrt{2})$.\n",
    "\n"
   ]
  },
  {
   "cell_type": "code",
   "execution_count": 91,
   "metadata": {},
   "outputs": [
    {
     "name": "stdout",
     "output_type": "stream",
     "text": [
      "((0, 0), (0, 1), 1.0)\n",
      "((0, 0), (1, 0), 1.0)\n",
      "((0, 1), (1, 0), 1.4142135623730951)\n"
     ]
    }
   ],
   "source": [
    "from itertools import starmap\n",
    "from math import sqrt, pow\n",
    "\n",
    "def f_distance(pointList):\n",
    "    \n",
    "    def euclidean_distance(point1, point2):\n",
    "        return sqrt(pow(point1[0] - point2[0],2)+pow(point1[1] - point2[1],2))\n",
    "    \n",
    "    combinations_ = combinations(pointList, 2)\n",
    "    yield from starmap(lambda point1, point2: (point1, point2, euclidean_distance(point1, point2)), combinations_)\n",
    "        \n",
    "for elem in f_distance([(0,0),(0,1),(1,0)]):\n",
    "    print(elem)"
   ]
  }
 ],
 "metadata": {
  "colab": {
   "provenance": []
  },
  "kernelspec": {
   "display_name": "Python 3 (ipykernel)",
   "language": "python",
   "name": "python3"
  },
  "language_info": {
   "codemirror_mode": {
    "name": "ipython",
    "version": 3
   },
   "file_extension": ".py",
   "mimetype": "text/x-python",
   "name": "python",
   "nbconvert_exporter": "python",
   "pygments_lexer": "ipython3",
   "version": "3.10.9"
  }
 },
 "nbformat": 4,
 "nbformat_minor": 1
}
