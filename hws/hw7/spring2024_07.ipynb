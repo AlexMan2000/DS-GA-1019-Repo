{
 "cells": [
  {
   "cell_type": "markdown",
   "metadata": {
    "id": "4gaDbaxvAiHg"
   },
   "source": [
    "### Homework 07: Concurrency\n",
    "\n",
    "## Due Date: Apr 12, 2024, 6:00pm\n",
    "\n",
    "#### Firstname Lastname: Jiasheng Ni\n",
    "\n",
    "#### E-mail: jn2294@nyu.edu\n",
    "\n",
    "#### Enter your solutions and submit this notebook\n"
   ]
  },
  {
   "cell_type": "markdown",
   "metadata": {
    "id": "uL2k0b8AAiHi"
   },
   "source": [
    "---\n",
    "\n",
    "**Problem 1** **(60 Points)**\n",
    "\n",
    "Let us consider the Gamma function, or the Euler integral of the second kind: \n",
    "\n",
    "$$\\Gamma(x) = \\int_{0} ^ \\infty t ^{x - 1} e^{-t} dt, $$\n",
    "\n",
    "and in this HW we consider real $x > 0$."
   ]
  },
  {
   "cell_type": "markdown",
   "metadata": {
    "id": "_wKriJjUAiHi"
   },
   "source": [
    "(Here is more on the Gamma function https://en.wikipedia.org/wiki/Gamma_function .\n",
    "It is not needed for this HW assignment.) "
   ]
  },
  {
   "cell_type": "markdown",
   "metadata": {
    "id": "Z7rspoOAAiHi"
   },
   "source": [
    "**1.1 (Points 15)**: \n",
    "\n",
    "Write a function (in the cell below) that sequentially calculates the given Gamma integral.\n"
   ]
  },
  {
   "cell_type": "code",
   "execution_count": 6,
   "metadata": {},
   "outputs": [],
   "source": [
    "import numpy as np\n",
    "import time\n",
    "\n",
    "def func(t, x):\n",
    "    return np.power(t, x-1) * np.exp(-1 * t)\n",
    "\n",
    "\n",
    "def calculate_gamma(x, bound_1, bound_2, number_of_steps):\n",
    "    t_segs = np.linspace(bound_1, bound_2, number_of_steps + 1)\n",
    "    step_size = (bound_2 - bound_1) / (number_of_steps)\n",
    "\n",
    "    integral_res = 0\n",
    "    for t in t_segs[:-1]:\n",
    "        integral_res += func(t, x) * step_size\n",
    "\n",
    "    return integral_res"
   ]
  },
  {
   "cell_type": "markdown",
   "metadata": {
    "id": "j0c3n9l5AiHj"
   },
   "source": [
    "**1.2 (Points 5)** \n",
    "\n",
    "Evaluate, $\\Gamma(6)$ by using `calculate_gamma(x, bound_1, bound_2, number_of_steps)` and the error of this computation.\n",
    "\n",
    "\n",
    "As arguments, use `x=6, bound_1=0, bound_2=1000, number_of_steps=10_000_000`. We know that $\\Gamma(x) = x!$, so $\\Gamma(6) = 5! = 120$. \n"
   ]
  },
  {
   "cell_type": "code",
   "execution_count": 7,
   "metadata": {},
   "outputs": [
    {
     "name": "stdout",
     "output_type": "stream",
     "text": [
      "Result: 119.99999999994274, Time Lapsed: 12.738117456436157, error is 5.725553364754887e-11\n"
     ]
    }
   ],
   "source": [
    "start = time.time()\n",
    "result = calculate_gamma(6, 0, 1000, 10000000)\n",
    "error = 120 - result\n",
    "print(f\"Result: {result}, Time Lapsed: {time.time() - start}, error is {error}\")"
   ]
  },
  {
   "cell_type": "markdown",
   "metadata": {
    "id": "mz9wfpRzAiHk"
   },
   "source": [
    "---\n",
    "\n",
    "Write two functions to calculate $\\Gamma(x)$ by using:\n",
    "\n",
    "\n",
    "\n",
    "**1.3.1 (Points 15)**\n",
    "**threading** with N=4 threads; \n",
    "\n",
    "**1.3.2 (Points 15)**\n",
    "**multiprocessing** with N=4 processes. \n",
    "\n",
    "\n",
    "**1.3.3 (Points 10)** \n",
    "Compare the times of the three versions and write a short explanation of what you are observing.\n",
    "\n",
    "How does the answer change when N=8 and why?\n",
    "\n"
   ]
  },
  {
   "cell_type": "code",
   "execution_count": 4,
   "metadata": {},
   "outputs": [
    {
     "name": "stderr",
     "output_type": "stream",
     "text": [
      "C:\\Users\\alexm\\AppData\\Local\\Temp\\ipykernel_63200\\3195937392.py:41: DeprecationWarning: setDaemon() is deprecated, set the daemon attribute instead\n",
      "  worker.setDaemon(True) # this stop the threads when the program quits\n"
     ]
    },
    {
     "name": "stdout",
     "output_type": "stream",
     "text": [
      "Result: 119.99999999994274, Time Lapsed: 13.362726926803589, error is 5.725553364754887e-11\n",
      "Result: 119.99999999994274, Time Lapsed: 12.574717283248901, error is 5.725553364754887e-11\n"
     ]
    }
   ],
   "source": [
    "import time\n",
    "import threading\n",
    "import numpy as np\n",
    "from queue import Queue\n",
    "from threading import Thread\n",
    "from threading import Lock\n",
    "\n",
    "\n",
    "\n",
    "def multithreading_calculate_gamma(x, bound_1, bound_2, number_of_steps, num_of_threads):\n",
    "    # Init\n",
    "    steps = np.linspace(bound_1, bound_2, number_of_steps + 1)\n",
    "    step_size = (bound_2 - bound_1) / number_of_steps\n",
    "    chunk_size = number_of_steps // (num_of_threads - 1)\n",
    "    # Consider the floor division\n",
    "\n",
    "    chunks = [(i, i + chunk_size) for i in range(0, number_of_steps - chunk_size, chunk_size)] + [(chunk_size * (num_of_threads - 1), number_of_steps)]\n",
    "    q = Queue()\n",
    "    lock = Lock()\n",
    "\n",
    "    # Accumulator\n",
    "    results = 0\n",
    "\n",
    "    # Worker Code for threads\n",
    "    def sum_chunk(q, x):\n",
    "        nonlocal results\n",
    "        nonlocal steps\n",
    "        nonlocal step_size\n",
    "        local_result = 0\n",
    "        while True:\n",
    "            bound_1, bound_2 = q.get()\n",
    "            for i in range(bound_1, bound_2):\n",
    "                t = steps[i]\n",
    "                local_result += func(t, x) * step_size\n",
    "            with lock:  # force synchronization\n",
    "                results = results + local_result\n",
    "            q.task_done()\n",
    "\n",
    "    for i in range(num_of_threads):\n",
    "        worker = Thread(target=sum_chunk, args=(q, x))\n",
    "        worker.setDaemon(True) # this stop the threads when the program quits\n",
    "        worker.start()         # start the threads\n",
    "\n",
    "    for chunk in chunks:\n",
    "        q.put(chunk)\n",
    "\n",
    "    q.join()\n",
    "\n",
    "    return results\n",
    "\n",
    "start = time.time()\n",
    "result_4_thread = multithreading_calculate_gamma(6, 0, 1000, 10000000, 4)\n",
    "error_4_thread = 120 - result_4_thread\n",
    "print(f\"Result: {result_4_thread}, Time Lapsed: {time.time() - start}, error is {error_4_thread}\")\n",
    "\n",
    "start = time.time()\n",
    "result_8_thread = multithreading_calculate_gamma(6, 0, 1000, 10000000, 8)\n",
    "error_8_thread = 120 - result_8_thread\n",
    "print(f\"Result: {result_8_thread}, Time Lapsed: {time.time() - start}, error is {error_8_thread}\")"
   ]
  },
  {
   "cell_type": "code",
   "execution_count": 10,
   "outputs": [
    {
     "name": "stdout",
     "output_type": "stream",
     "text": [
      "10000000\n",
      "Result: 119.9999999999999, Time Lapsed: 17.162447452545166, error is 9.947598300641403e-14\n"
     ]
    }
   ],
   "source": [
    "!python multiprocessing_calculate_gamma.py -n 4"
   ],
   "metadata": {
    "collapsed": false
   }
  },
  {
   "cell_type": "code",
   "execution_count": 9,
   "outputs": [
    {
     "name": "stdout",
     "output_type": "stream",
     "text": [
      "Result: 119.9999999999999, Time Lapsed: 16.590646982192993, error is 9.947598300641403e-14\n"
     ]
    }
   ],
   "source": [
    "!python multiprocessing_calculate_gamma.py -n 8"
   ],
   "metadata": {
    "collapsed": false
   }
  },
  {
   "cell_type": "markdown",
   "source": [
    "Problem 1 Explanations\n"
   ],
   "metadata": {
    "collapsed": false
   }
  },
  {
   "cell_type": "markdown",
   "metadata": {
    "id": "6z-chDYMAiHk"
   },
   "source": [
    "---\n",
    "\n",
    "**Problem 2 (40 points)**\n",
    "\n",
    "__Website uptime__ is the time that a website or web service is available to the users over a given period.\n",
    "\n",
    "The task is to build an application that checks the uptime of websites. \n",
    "\n",
    "- The application should go over a list of website URLs and checks if those websites are up.\n",
    "- Instead of performing a classic HTTP GET request, it performs a HEAD request so that it does not affect traffic significantly.\n",
    "- If the HTTP status is in the danger ranges (400+, 500+), a message is casted. \n",
    "\n",
    "Here are some useful functions:"
   ]
  },
  {
   "cell_type": "code",
   "execution_count": 1,
   "metadata": {
    "id": "6Ykb2Gl2AiHk"
   },
   "outputs": [],
   "source": [
    "#### _website uptimer_ ####\n",
    "\n",
    "import time\n",
    "import logging\n",
    "import requests\n",
    " \n",
    "class WebsiteDownException(Exception):\n",
    "    pass\n",
    " \n",
    "def ping_website(address, timeout=20):\n",
    "    \"\"\"\n",
    "    Check if a website is down. A website is considered down \n",
    "    if either the status_code >= 400 or if the timeout expires\n",
    "     \n",
    "    Throw a WebsiteDownException if any of the website down conditions are met\n",
    "    \"\"\"\n",
    "    try:\n",
    "        response = requests.head(address, timeout=timeout)\n",
    "        if response.status_code >= 400:\n",
    "            logging.warning(\"Website %s returned status_code=%s\" % (address, response.status_code))\n",
    "            raise WebsiteDownException()\n",
    "    except requests.exceptions.RequestException:\n",
    "        logging.warning(\"Timeout expired for website %s\" % address)\n",
    "        raise WebsiteDownException()\n",
    "         \n",
    "def check_website(address):\n",
    "    \"\"\"\n",
    "    Utility function: check if a website is down, if so, notify the user\n",
    "    \"\"\"\n",
    "    try:\n",
    "        ping_website(address)\n",
    "    except WebsiteDownException:\n",
    "        print('The websie ' + address + ' is down')"
   ]
  },
  {
   "cell_type": "markdown",
   "metadata": {
    "id": "9njRgl02AiHl"
   },
   "source": [
    "---\n",
    "\n",
    "You need a website list to try our system out. Create your own list or use the following one. \n",
    "\n",
    "---"
   ]
  },
  {
   "cell_type": "code",
   "execution_count": 2,
   "metadata": {
    "id": "dQHGwufBAiHl"
   },
   "outputs": [],
   "source": [
    "WEBSITE_LIST = [\n",
    "    'http://amazon.co.uk',\n",
    "    'http://amazon.com',\n",
    "    'http://facebook.com',\n",
    "    'http://google.com',\n",
    "    'http://google.fr',\n",
    "    'http://google.es',\n",
    "    'http://google.co.uk',\n",
    "    'http://gmail.com',\n",
    "    'http://stackoverflow.com',\n",
    "    'http://github.com',\n",
    "    'http://heroku.com',\n",
    "    'http://really-cool-available-domain.com',\n",
    "    'http://djangoproject.com',\n",
    "    'http://rubyonrails.org',\n",
    "    'http://basecamp.com',\n",
    "    'http://trello.com',\n",
    "    'http://shopify.com',\n",
    "    'http://another-really-interesting-domain.co',\n",
    "    'http://airbnb.com',\n",
    "    'http://instagram.com',\n",
    "    'http://snapchat.com',\n",
    "    'http://youtube.com',\n",
    "    'http://baidu.com',\n",
    "    'http://yahoo.com',\n",
    "    'http://live.com',\n",
    "    'http://linkedin.com',\n",
    "    'http://netflix.com',\n",
    "    'http://wordpress.com',\n",
    "    'http://bing.com',\n",
    "]"
   ]
  },
  {
   "cell_type": "markdown",
   "metadata": {
    "id": "qVpwAfsnAiHm"
   },
   "source": [
    "---\n",
    "\n",
    "A serial version of the _website uptimer_ can be written as: \n",
    "\n",
    "---\n"
   ]
  },
  {
   "cell_type": "code",
   "execution_count": 3,
   "metadata": {},
   "outputs": [
    {
     "name": "stderr",
     "output_type": "stream",
     "text": [
      "WARNING:root:Timeout expired for website http://really-cool-available-domain.com\n"
     ]
    },
    {
     "name": "stdout",
     "output_type": "stream",
     "text": [
      "The websie http://really-cool-available-domain.com is down\n"
     ]
    },
    {
     "name": "stderr",
     "output_type": "stream",
     "text": [
      "WARNING:root:Timeout expired for website http://another-really-interesting-domain.co\n"
     ]
    },
    {
     "name": "stdout",
     "output_type": "stream",
     "text": [
      "The websie http://another-really-interesting-domain.co is down\n",
      "Time for Serial: 2.6749846935272217secs\n"
     ]
    }
   ],
   "source": [
    "import time\n",
    " \n",
    "start_time = time.time()\n",
    " \n",
    "for address in WEBSITE_LIST:\n",
    "    check_website(address)\n",
    "         \n",
    "end_time = time.time()        \n",
    " \n",
    "print(\"Time for Serial: %ssecs\" % (end_time - start_time))"
   ]
  },
  {
   "cell_type": "markdown",
   "metadata": {
    "id": "XET1dVPhAiHm"
   },
   "source": [
    "You should build two versions of the **website uptimer**, by using:\n",
    "\n",
    "**2.1 (Points 15)**\n",
    "**threading** with N=4 threads; \n",
    "\n",
    "**2.2 (Points 15)**\n",
    "**multiprocessing** with N=4 processes. \n",
    "\n",
    "\n",
    "**2.3 (Points 10)** \n",
    "\n",
    "Compare the times of the three versions and write a short explanation of what you are observing.\n",
    "\n",
    "How does the answer change when N=8 and why?\n"
   ]
  },
  {
   "cell_type": "code",
   "execution_count": 3,
   "outputs": [],
   "source": [
    "import time\n",
    "import threading\n",
    "import numpy as np\n",
    "from queue import Queue\n",
    "from threading import Thread\n",
    "from threading import Lock\n",
    "\n",
    "def multi_threading_ping(websites, num_of_threads):\n",
    "\n",
    "    num_of_websites = len(websites)\n",
    "    chunk_size = num_of_websites // (num_of_threads - 1)\n",
    "    chunk_indices = [(i, i + chunk_size) for i in range(0, len(websites) - chunk_size, chunk_size)] + [(chunk_size *(num_of_threads - 1), len(websites))]\n",
    "\n",
    "    chunk_websites = [[websites[j] for j in range(chunk_index[0], chunk_index[1])] for chunk_index in chunk_indices]\n",
    "\n",
    "    q = Queue()\n",
    "\n",
    "    def ping_chunk(q):\n",
    "        while True:\n",
    "            website_addrs = q.get()\n",
    "            for website_addr in website_addrs:\n",
    "                check_website(website_addr)\n",
    "            q.task_done()\n",
    "\n",
    "    for i in range(num_of_threads):\n",
    "        worker = Thread(target=ping_chunk, args=(q,))\n",
    "        worker.setDaemon(True) # this stop the threads when the program quits\n",
    "        worker.start()         # start the threads\n",
    "\n",
    "    for chunk in chunk_websites:\n",
    "        q.put(chunk)\n",
    "\n",
    "\n",
    "    q.join()"
   ],
   "metadata": {
    "collapsed": false
   }
  },
  {
   "cell_type": "code",
   "execution_count": 5,
   "outputs": [
    {
     "name": "stderr",
     "output_type": "stream",
     "text": [
      "C:\\Users\\alexm\\AppData\\Local\\Temp\\ipykernel_95784\\2758633146.py:27: DeprecationWarning: setDaemon() is deprecated, set the daemon attribute instead\n",
      "  worker.setDaemon(True) # this stop the threads when the program quits\n",
      "WARNING:root:Timeout expired for website http://really-cool-available-domain.com\n"
     ]
    },
    {
     "name": "stdout",
     "output_type": "stream",
     "text": [
      "The websie http://really-cool-available-domain.com is down\n"
     ]
    },
    {
     "name": "stderr",
     "output_type": "stream",
     "text": [
      "WARNING:root:Timeout expired for website http://another-really-interesting-domain.co\n"
     ]
    },
    {
     "name": "stdout",
     "output_type": "stream",
     "text": [
      "The websie http://another-really-interesting-domain.co is down\n"
     ]
    },
    {
     "name": "stderr",
     "output_type": "stream",
     "text": [
      "WARNING:root:Timeout expired for website http://another-really-interesting-domain.co\n",
      "WARNING:root:Timeout expired for website http://really-cool-available-domain.com\n"
     ]
    },
    {
     "name": "stdout",
     "output_type": "stream",
     "text": [
      "Num of Threads: 4, Time Lapse: 1.0804872512817383\n",
      "The websie http://another-really-interesting-domain.co is down\n",
      "The websie http://really-cool-available-domain.com is down\n",
      "Num of Threads: 8, Time Lapse: 0.8260636329650879\n"
     ]
    }
   ],
   "source": [
    "num_of_threads = 4\n",
    "start = time.time()\n",
    "multi_threading_ping(WEBSITE_LIST, num_of_threads)\n",
    "print(f\"Num of Threads: {num_of_threads}, Time Lapse: {time.time() - start}\")\n",
    "\n",
    "num_of_threads = 8\n",
    "start = time.time()\n",
    "multi_threading_ping(WEBSITE_LIST, num_of_threads)\n",
    "print(f\"Num of Threads: {num_of_threads}, Time Lapse: {time.time() - start}\")"
   ],
   "metadata": {
    "collapsed": false
   }
  },
  {
   "cell_type": "code",
   "execution_count": 16,
   "metadata": {},
   "outputs": [
    {
     "name": "stdout",
     "output_type": "stream",
     "text": [
      "Time Lapsed: 1.3548572063446045\n",
      "The website http://really-cool-available-domain.com is down\n",
      "The website http://another-really-interesting-domain.co is down\n"
     ]
    },
    {
     "name": "stderr",
     "output_type": "stream",
     "text": [
      "WARNING:root:Timeout expired for website http://really-cool-available-domain.com\n",
      "WARNING:root:Timeout expired for website http://another-really-interesting-domain.co\n"
     ]
    }
   ],
   "source": [
    "!python multiprocessing_ping.py -n 4"
   ]
  },
  {
   "cell_type": "code",
   "execution_count": 17,
   "metadata": {},
   "outputs": [
    {
     "name": "stdout",
     "output_type": "stream",
     "text": [
      "Time Lapsed: 1.066051721572876\n",
      "The website http://another-really-interesting-domain.co is down\n",
      "The website http://really-cool-available-domain.com is down\n"
     ]
    },
    {
     "name": "stderr",
     "output_type": "stream",
     "text": [
      "WARNING:root:Timeout expired for website http://really-cool-available-domain.com\n",
      "WARNING:root:Timeout expired for website http://another-really-interesting-domain.co\n"
     ]
    }
   ],
   "source": [
    "!python multiprocessing_ping.py -n 8"
   ]
  },
  {
   "cell_type": "markdown",
   "source": [
    "### Problem 2 Explanations\n",
    "We see that for this task, compared with N = 4, when N = 8, we ping the websites faster."
   ],
   "metadata": {
    "collapsed": false
   }
  },
  {
   "cell_type": "code",
   "execution_count": null,
   "outputs": [],
   "source": [],
   "metadata": {
    "collapsed": false
   }
  }
 ],
 "metadata": {
  "colab": {
   "provenance": []
  },
  "kernelspec": {
   "display_name": "Python 3 (ipykernel)",
   "language": "python",
   "name": "python3"
  },
  "language_info": {
   "codemirror_mode": {
    "name": "ipython",
    "version": 3
   },
   "file_extension": ".py",
   "mimetype": "text/x-python",
   "name": "python",
   "nbconvert_exporter": "python",
   "pygments_lexer": "ipython3",
   "version": "3.10.11"
  }
 },
 "nbformat": 4,
 "nbformat_minor": 1
}
