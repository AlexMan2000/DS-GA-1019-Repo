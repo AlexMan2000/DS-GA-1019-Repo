{
 "cells": [
  {
   "cell_type": "markdown",
   "metadata": {
    "id": "Uj-TiiQnFAEa"
   },
   "source": [
    "# Advanced Python for Data Science\n",
    "### DS-GA 1019\n",
    "\n",
    "### Homework Assignment 04\n",
    "### Due date: 02/28/2024, 4:00PM\n",
    "### Student's Name: Jiasheng Ni\n",
    "### Student's e-mail: jn2294@nyu.edu"
   ]
  },
  {
   "cell_type": "markdown",
   "metadata": {
    "id": "wU6neZJmFAEb"
   },
   "source": [
    "# Problem 1 (100 points)\n",
    "\n",
    "The task is to optimize your solutions by using \"line_profiler\". \n",
    "\n",
    "Your submission \"spring2024_sol04_yourid.ipynb\" will contain:\n",
    "- the first part is your original solution (a solution that you originally wrote); \n",
    "- the second part is your final, optimized solution after using line_profiler; \n",
    "- both of which will include the line_profiler results, and your detailed comments.\n",
    "\n",
    "\n",
    "The problem is to simulate a random motion of $n$ objects over a discrete time. \n",
    "\n",
    "Concretely, there is:\n",
    "- a unit square $[0,1]^2$, \n",
    "- $n$ points within the unit square, \n",
    "- and the time is discrete $t=0, 1, 2, \\dots$. \n",
    "\n",
    "At time $t=0$, the positions of $n$ points are randomly and uniformly distributed within the unit square; call these positions $\\{p_0, p_1, p_2,\\dots, p_{n-1}\\}$. \n",
    "\n",
    "At every time step $t \\geq 0$, every point $i$, chooses to randomly move in one of four directions: left, right, up, down. The distance is also random uniform number on $[0, \\delta]$, where $\\delta$ is given. \n",
    "\n",
    "That is, at every time step $t$ and for every $i$ we generate a random move as: \n",
    "$$ p_i := p_i + r_i \\cdot u_i$$\n",
    "where \n",
    "$$ r_i \\sim uniform[0, \\delta],$$ \n",
    "and \n",
    "$u_i$ represents a random direction, i.e. a randomly chosen vector among $(-1, 0), (1, 0), (0, -1), (0, 1)$.\n",
    "\n",
    "**Dynamics**\n",
    "\n",
    "Now, one would like to examine and plot the diagram of the minimum distance $d_{\\min}$ among these $n$ points over $T$ iterations.\n",
    "\n",
    "The task is to complete the rest of this notebook, where definitions of the functions main_orignal and main_optimized are given below. "
   ]
  },
  {
   "cell_type": "markdown",
   "metadata": {},
   "source": [
    " ---\n",
    " \n",
    " ### The original code description: \n",
    " \n",
    " The solution adheres to the principle of OOP, where I defined the each point to be an object for easier management. \n",
    "\n",
    " Point Object\n",
    " - Each point object has two state variables, representing x coordinate and y coordinate. \n",
    " - The update method is used to update the state of point object across different iteration. \n",
    " \n",
    " iteration()\n",
    " - Update the state of each point using the formula above.\n",
    "\n",
    " compute_min_distance()\n",
    " - This function calculates the minimum euclidean distance across all points\n",
    "\n",
    " initialize_points()\n",
    " - This function initialize points with randomized point coordinates.\n",
    " \n",
    " ---\n"
   ]
  },
  {
   "cell_type": "code",
   "execution_count": 7,
   "metadata": {},
   "outputs": [
    {
     "name": "stdout",
     "output_type": "stream",
     "text": [
      "[0.11450411811261453, 0.2230457527956587, 0.7470379417899513, 0.5292947223970594, 0.9027443421439343, 1.3356094952213642, 0.9518496387723032, 1.9684092576741188, 1.4517113296606177, 1.3731185948673696, 2.5152577465119905, 2.6716619736108833, 3.4461453024314213, 1.1953047595135518, 1.9383215515949537, 0.7310069759153576, 0.6864921430314398, 2.1988411818196782, 2.5718657483058203, 1.4900449430615053, 2.4042882356940996, 5.585664229829599, 4.8376200862332, 2.1752626015988286, 2.7484909431714937, 1.6107687580588819, 1.5997771763936475, 2.4507384700511707, 3.0164313136636856, 3.08789173673001, 1.2564283160659169, 1.9631838845997633, 2.7761219790314815, 2.1971388858336307, 2.0913630474924525, 3.1395753643251307, 4.409813762920556, 3.275712254374627, 0.8838644083638882, 1.7143014908775094, 2.0978777274066136, 3.7786776496014114, 5.584106382126308, 5.624303332500556, 5.607642405649521, 4.124858746507339, 4.125167571497679, 5.16930575667008, 4.815054792922085, 5.596687034101521]\n"
     ]
    }
   ],
   "source": [
    "import math\n",
    "import itertools\n",
    "import numpy as np\n",
    "\n",
    "class Point:\n",
    "\n",
    "    def __init__(self, x, y):\n",
    "        self._x = x\n",
    "        self._y = y\n",
    "\n",
    "    @staticmethod\n",
    "    def distance(point1, point2):\n",
    "        \"\"\"\n",
    "        Compute the euclidean distance between two points\n",
    "        \"\"\"\n",
    "        return math.sqrt((point1.x - point2.x) ** 2 + (point1.y - point2.y) ** 2)\n",
    "\n",
    "    def update(self, offset, step_size):\n",
    "        self.x += offset[0] * step_size\n",
    "        self.y += offset[1] * step_size\n",
    "\n",
    "    @property\n",
    "    def x(self):\n",
    "        return self._x\n",
    "\n",
    "    @property\n",
    "    def y(self):\n",
    "        return self._y\n",
    "\n",
    "    @x.setter\n",
    "    def x(self, value):\n",
    "        self._x = value\n",
    "\n",
    "    @y.setter\n",
    "    def y(self, value):\n",
    "        self._y = value\n",
    "\n",
    "\n",
    "\n",
    "def iteration(points, delta):\n",
    "    direction_lst = [(-1,0),(1,0),(0,-1),(0,1)]\n",
    "    for point in points:\n",
    "        step_size = np.random.uniform(0, delta)\n",
    "        direction = direction_lst[np.random.choice([0,1,2,3], size = 1, p = [0.25] * 4)[0]]\n",
    "        point.update(direction, step_size)\n",
    "\n",
    "\n",
    "def compute_min_distance(points):\n",
    "    return min(map(lambda pair: Point.distance(pair[0], pair[1]), itertools.combinations(points, 2)))\n",
    "\n",
    "\n",
    "def initialize_points(n):\n",
    "    point_lst = []\n",
    "    for _ in range(n):\n",
    "        random_x = np.random.uniform(0, 1)\n",
    "        random_y = np.random.uniform(0, 1)\n",
    "        point_lst.append(Point(random_x, random_y))\n",
    "\n",
    "    return point_lst\n",
    "\n",
    "\n",
    "def main_original(n, delta, T): \n",
    "    point_lst = initialize_points(n)\n",
    "    lst_of_min_distance = []\n",
    "    for _ in range(T):\n",
    "        lst_of_min_distance.append(compute_min_distance(point_lst))\n",
    "        iteration(point_lst, delta)\n",
    "\n",
    "    return lst_of_min_distance\n",
    "\n",
    "\n",
    "print(main_original(5, 3, 50))"
   ]
  },
  {
   "cell_type": "markdown",
   "metadata": {},
   "source": [
    "#### Performance Monitoring"
   ]
  },
  {
   "cell_type": "code",
   "execution_count": 8,
   "metadata": {},
   "outputs": [],
   "source": [
    "# Import Performance Tuning Tools\n",
    "import cProfile\n",
    "import re\n",
    "%load_ext line_profiler"
   ]
  },
  {
   "cell_type": "code",
   "execution_count": 10,
   "metadata": {},
   "outputs": [
    {
     "name": "stdout",
     "output_type": "stream",
     "text": [
      "         8225 function calls in 0.006 seconds\n",
      "\n",
      "   Ordered by: standard name\n",
      "\n",
      "   ncalls  tottime  percall  cumtime  percall filename:lineno(function)\n",
      "      500    0.001    0.000    0.001    0.000 2004844512.py:11(distance)\n",
      "      250    0.000    0.000    0.000    0.000 2004844512.py:18(update)\n",
      "     1250    0.000    0.000    0.000    0.000 2004844512.py:22(x)\n",
      "     1250    0.000    0.000    0.000    0.000 2004844512.py:26(y)\n",
      "      250    0.000    0.000    0.000    0.000 2004844512.py:30(x)\n",
      "      250    0.000    0.000    0.000    0.000 2004844512.py:34(y)\n",
      "       50    0.000    0.000    0.005    0.000 2004844512.py:40(iteration)\n",
      "       50    0.000    0.000    0.001    0.000 2004844512.py:48(compute_min_distance)\n",
      "      500    0.000    0.000    0.001    0.000 2004844512.py:49(<lambda>)\n",
      "        1    0.000    0.000    0.000    0.000 2004844512.py:52(initialize_points)\n",
      "        1    0.000    0.000    0.006    0.006 2004844512.py:62(main_original)\n",
      "        5    0.000    0.000    0.000    0.000 2004844512.py:7(__init__)\n",
      "      250    0.000    0.000    0.001    0.000 <__array_function__ internals>:177(prod)\n",
      "        1    0.000    0.000    0.006    0.006 <string>:1(<module>)\n",
      "      250    0.000    0.000    0.000    0.000 fromnumeric.py:2922(_prod_dispatcher)\n",
      "      250    0.000    0.000    0.001    0.000 fromnumeric.py:2927(prod)\n",
      "      250    0.000    0.000    0.001    0.000 fromnumeric.py:69(_wrapreduction)\n",
      "      250    0.000    0.000    0.000    0.000 fromnumeric.py:70(<dictcomp>)\n",
      "      250    0.000    0.000    0.000    0.000 getlimits.py:458(__new__)\n",
      "        1    0.000    0.000    0.006    0.006 {built-in method builtins.exec}\n",
      "      250    0.000    0.000    0.000    0.000 {built-in method builtins.getattr}\n",
      "       50    0.000    0.000    0.001    0.000 {built-in method builtins.min}\n",
      "      500    0.000    0.000    0.000    0.000 {built-in method math.sqrt}\n",
      "      250    0.000    0.000    0.001    0.000 {built-in method numpy.core._multiarray_umath.implement_array_function}\n",
      "       55    0.000    0.000    0.000    0.000 {method 'append' of 'list' objects}\n",
      "      250    0.003    0.000    0.004    0.000 {method 'choice' of 'numpy.random.mtrand.RandomState' objects}\n",
      "        1    0.000    0.000    0.000    0.000 {method 'disable' of '_lsprof.Profiler' objects}\n",
      "      250    0.000    0.000    0.000    0.000 {method 'get' of 'dict' objects}\n",
      "      250    0.000    0.000    0.000    0.000 {method 'items' of 'dict' objects}\n",
      "      250    0.000    0.000    0.000    0.000 {method 'reduce' of 'numpy.ufunc' objects}\n",
      "      260    0.000    0.000    0.000    0.000 {method 'uniform' of 'numpy.random.mtrand.RandomState' objects}\n",
      "\n",
      "\n"
     ]
    }
   ],
   "source": [
    "cProfile.run('main_original(5, 3, 50)')"
   ]
  },
  {
   "cell_type": "code",
   "execution_count": 9,
   "metadata": {},
   "outputs": [
    {
     "name": "stdout",
     "output_type": "stream",
     "text": [
      "Timer unit: 1e-07 s\n",
      "\n",
      "Total time: 0.0083498 s\n",
      "File: C:\\Users\\alexm\\AppData\\Local\\Temp\\ipykernel_62380\\2004844512.py\n",
      "Function: main_original at line 62\n",
      "\n",
      "Line #      Hits         Time  Per Hit   % Time  Line Contents\n",
      "==============================================================\n",
      "    62                                           def main_original(n, delta, T): \n",
      "    63                                               \"\"\" \n",
      "    64                                               n: is the number of uniformly at random generated points in the unit square \n",
      "    65                                               delta: a maximal move of a point in one of four random directions: left, right, up, or down \n",
      "    66                                               T: number of iterations\n",
      "    67                                               return: \n",
      "    68                                               lst_of_min_distances: of the minimum distances among all n points over times: t=0, 1, 2, \\dots, T - 1,\n",
      "    69                                               it is a list of reals of length T\"\"\"\n",
      "    70                                           \n",
      "    71         1        684.0    684.0      0.8      point_lst = initialize_points(n)\n",
      "    72         1          2.0      2.0      0.0      lst_of_min_distance = []\n",
      "    73        51        130.0      2.5      0.2      for _ in range(T):\n",
      "    74        50      13498.0    270.0     16.2          lst_of_min_distance.append(compute_min_distance(point_lst))\n",
      "    75        50      69182.0   1383.6     82.9          iteration(point_lst, delta)\n",
      "    76                                           \n",
      "    77         1          2.0      2.0      0.0      return lst_of_min_distance"
     ]
    }
   ],
   "source": [
    "%lprun -f main_original main_original(5, 3, 50)"
   ]
  },
  {
   "cell_type": "markdown",
   "metadata": {},
   "source": [
    "---\n",
    "\n",
    "#### The optimized code description: \n",
    "\n",
    "** TO BE POPULATED **\n",
    "\n",
    "** EXPLAIN THE SOLUTION ** \n",
    "\n",
    " ---\n",
    " "
   ]
  },
  {
   "cell_type": "code",
   "execution_count": 56,
   "metadata": {},
   "outputs": [
    {
     "name": "stdout",
     "output_type": "stream",
     "text": [
      "[0.16895294790084103, 0.24456844176006207, 0.5976161291425454, 0.24456844176006182, 4.250495798143483, 4.670614980291789, 3.9980736802658234, 4.164269938224258, 0.16895294790084103, 4.095177690663402, 4.700622708045667, 0.7946406607702514, 4.7006227080456675, 0.7946406607702514, 3.5842386532298764, 5.857573455531934, 8.337410601476341, 5.894250411674614, 8.85888353342021, 9.57936602400659, 4.632251283375962, 3.704068359137133, 9.166603726501679, 3.704068359137133, 9.166603726501679, 12.59726464450057, 9.166603726501679, 9.166603726501679, 3.704068359137133, 3.9260184588979263, 6.174883397799439, 6.174883397799439, 6.174883397799439, 9.048028211693227, 13.288430251779493, 13.84053153061843, 16.82249345301153, 13.816524026569263, 15.480502953063104, 15.480502953063104, 13.816524026569263, 9.111204768332444, 6.865258078484886, 6.865258078484886, 12.865254809929896, 16.144578956035875, 16.144578956035875, 14.191443378695, 17.586339841393603, 17.586339841393603]\n"
     ]
    }
   ],
   "source": [
    "import itertools\n",
    "import numpy as np\n",
    "\n",
    "\n",
    "def iteration(points, delta):\n",
    "    direction_lst = np.array([[-1,0],[1,0],[0,-1],[0,1]])\n",
    "\n",
    "    for i in range(points.shape[1]):\n",
    "        points[:,i] += delta * direction_lst[np.random.choice([0,1,2,3], size = 1, p = [0.25] * 4)[0]]\n",
    "    \n",
    "\n",
    "\n",
    "def compute_min_distance(points):\n",
    "    # Expand the points array to a square form where each slice along the third dimension\n",
    "    # represents the difference between one point and all others\n",
    "    diff = points[:, :, np.newaxis] - points[:, np.newaxis, :]\n",
    "    # Compute the squared distances (avoid sqrt for speed and square later)\n",
    "    sq_distances = np.sum(diff ** 2, axis=0)\n",
    "    # Ensure the diagonal (distances to self) is ignored by setting it to infinity\n",
    "    np.fill_diagonal(sq_distances, np.inf)\n",
    "    # Find and return the minimum distance (square root of the minimum squared distance)\n",
    "    return np.sqrt(np.min(sq_distances))\n",
    "\n",
    "\n",
    "def initialize_points(n):\n",
    "    \"\"\"\n",
    "    Initialize n points in the second axis\n",
    "    \"\"\"\n",
    "    point_lst = np.random.uniform(low = 0, high = 1, size = (2, n))\n",
    "    return point_lst\n",
    "\n",
    "\n",
    "def main_original(n, delta, T): \n",
    "    point_lst = initialize_points(n)\n",
    "    lst_of_min_distance = []\n",
    "    for _ in range(T):\n",
    "        lst_of_min_distance.append(compute_min_distance(point_lst))\n",
    "        iteration(point_lst, delta)\n",
    "\n",
    "    return lst_of_min_distance\n",
    "\n",
    "print(main_original(5, 3, 50))"
   ]
  },
  {
   "cell_type": "markdown",
   "metadata": {},
   "source": [
    "#### Performance Monitoring"
   ]
  },
  {
   "cell_type": "code",
   "execution_count": 63,
   "metadata": {},
   "outputs": [
    {
     "name": "stdout",
     "output_type": "stream",
     "text": [
      "Timer unit: 1e-07 s\n",
      "\n",
      "Total time: 0.0066054 s\n",
      "File: C:\\Users\\alexm\\AppData\\Local\\Temp\\ipykernel_62380\\1378250577.py\n",
      "Function: main_original at line 36\n",
      "\n",
      "Line #      Hits         Time  Per Hit   % Time  Line Contents\n",
      "==============================================================\n",
      "    36                                           def main_original(n, delta, T): \n",
      "    37         1        281.0    281.0      0.4      point_lst = initialize_points(n)\n",
      "    38         1          2.0      2.0      0.0      lst_of_min_distance = []\n",
      "    39        51        118.0      2.3      0.2      for _ in range(T):\n",
      "    40        50      11682.0    233.6     17.7          lst_of_min_distance.append(compute_min_distance_optimized(point_lst))\n",
      "    41        50      53970.0   1079.4     81.7          iteration(point_lst, delta)\n",
      "    42                                           \n",
      "    43         1          1.0      1.0      0.0      return lst_of_min_distance"
     ]
    }
   ],
   "source": [
    "%lprun -f main_original main_original(5, 3, 50)"
   ]
  },
  {
   "cell_type": "code",
   "execution_count": null,
   "metadata": {},
   "outputs": [],
   "source": [
    "import math\n",
    "import itertools\n",
    "import numpy as np\n",
    "\n",
    "class Point:\n",
    "\n",
    "    def __init__(self, x, y):\n",
    "        self._x = x\n",
    "        self._y = y\n",
    "\n",
    "    @staticmethod\n",
    "    def distance(point1, point2):\n",
    "        \"\"\"\n",
    "        Compute the euclidean distance between two points\n",
    "        \"\"\"\n",
    "        return math.sqrt((point1.x - point2.x) ** 2 + (point1.y - point2.y) ** 2)\n",
    "\n",
    "    def update(self, offset, step_size):\n",
    "        self.x += offset[0] * step_size\n",
    "        self.y += offset[1] * step_size\n",
    "\n",
    "    @property\n",
    "    def x(self):\n",
    "        return self._x\n",
    "\n",
    "    @property\n",
    "    def y(self):\n",
    "        return self._y\n",
    "\n",
    "    @x.setter\n",
    "    def x(self, value):\n",
    "        self._x = value\n",
    "\n",
    "    @y.setter\n",
    "    def y(self, value):\n",
    "        self._y = value\n",
    "\n",
    "\n",
    "\n",
    "def iteration(points, delta):\n",
    "    direction_lst = [(-1,0),(1,0),(0,-1),(0,1)]\n",
    "    for point in points:\n",
    "        step_size = np.random.uniform(0, delta)\n",
    "        direction = direction_lst[np.random.choice([0,1,2,3], size = 1, p = [0.25] * 4)[0]]\n",
    "        point.update(direction, step_size)\n",
    "\n",
    "\n",
    "def compute_min_distance(points):\n",
    "    return min(map(lambda pair: Point.distance(pair[0], pair[1]), itertools.combinations(points, 2)))\n",
    "\n",
    "\n",
    "def initialize_points(n):\n",
    "    point_lst = []\n",
    "    for _ in range(n):\n",
    "        random_x = np.random.uniform(0, 1)\n",
    "        random_y = np.random.uniform(0, 1)\n",
    "        point_lst.append(Point(random_x, random_y))\n",
    "\n",
    "    return point_lst\n",
    "\n",
    "\n",
    "def main_original(n, delta, T): \n",
    "    point_lst = initialize_points(n)\n",
    "    lst_of_min_distance = []\n",
    "    for _ in range(T):\n",
    "        lst_of_min_distance.append(compute_min_distance(point_lst))\n",
    "        iteration(point_lst, delta)\n",
    "\n",
    "    return lst_of_min_distance\n",
    "\n",
    "\n",
    "print(main_original(5, 3, 50))"
   ]
  },
  {
   "cell_type": "markdown",
   "metadata": {},
   "source": [
    "#### Performance Tuning"
   ]
  },
  {
   "cell_type": "markdown",
   "metadata": {},
   "source": [
    "%lprun -f main_original main_original(5, 3, 50)"
   ]
  }
 ],
 "metadata": {
  "colab": {
   "provenance": []
  },
  "kernelspec": {
   "display_name": "Python 3 (ipykernel)",
   "language": "python",
   "name": "python3"
  },
  "language_info": {
   "codemirror_mode": {
    "name": "ipython",
    "version": 3
   },
   "file_extension": ".py",
   "mimetype": "text/x-python",
   "name": "python",
   "nbconvert_exporter": "python",
   "pygments_lexer": "ipython3",
   "version": "3.10.9"
  }
 },
 "nbformat": 4,
 "nbformat_minor": 1
}
