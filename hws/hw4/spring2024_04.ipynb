{
 "cells": [
  {
   "cell_type": "markdown",
   "metadata": {
    "id": "Uj-TiiQnFAEa"
   },
   "source": [
    "# Advanced Python for Data Science\n",
    "### DS-GA 1019\n",
    "\n",
    "### Homework Assignment 04\n",
    "### Due date: 02/28/2024, 4:00PM\n",
    "### Student's Name: \n",
    "### Student's e-mail:"
   ]
  },
  {
   "cell_type": "markdown",
   "metadata": {
    "id": "wU6neZJmFAEb"
   },
   "source": [
    "# Problem 1 (100 points)\n",
    "\n",
    "The task is to optimize your solutions by using \"line_profiler\". \n",
    "\n",
    "Your submission \"spring2024_sol04_yourid.ipynb\" will contain:\n",
    "- the first part is your original solution (a solution that you originally wrote); \n",
    "- the second part is your final, optimized solution after using line_profiler; \n",
    "- both of which will include the line_profiler results, and your detailed comments.\n",
    "\n",
    "\n",
    "The problem is to simulate a random motion of $n$ objects over a discrete time. \n",
    "\n",
    "Concretely, there is:\n",
    "- a unit square $[0,1]^2$, \n",
    "- $n$ points within the unit square, \n",
    "- and the time is discrete $t=0, 1, 2, \\dots$. \n",
    "\n",
    "At time $t=0$, the positions of $n$ points are randomly and uniformly distributed within the unit square; call these positions $\\{p_0, p_1, p_2,\\dots, p_{n-1}\\}$. \n",
    "\n",
    "At every time step $t \\geq 0$, every point $i$, chooses to randomly move in one of four directions: left, right, up, down. The distance is also random uniform number on $[0, \\delta]$, where $\\delta$ is given. \n",
    "\n",
    "That is, at every time step $t$ and for every $i$ we generate a random move as: \n",
    "$$ p_i := p_i + r_i \\cdot u_i$$\n",
    "where \n",
    "$$ r_i \\sim uniform[0, \\delta],$$ \n",
    "and \n",
    "$u_i$ represents a random direction, i.e. a randomly chosen vector among $(-1, 0), (1, 0), (0, -1), (0, 1)$.\n",
    "\n",
    "**Dynamics**\n",
    "\n",
    "Now, one would like to examine and plot the diagram of the minimum distance $d_{\\min}$ among these $n$ points over $T$ iterations.\n",
    "\n",
    "The task is to complete the rest of this notebook, where definitions of the functions main_orignal and main_optimized are given below. "
   ]
  },
  {
   "cell_type": "markdown",
   "metadata": {},
   "source": [
    " ---\n",
    " \n",
    " ### The original code description: \n",
    " \n",
    " ** TO BE POPULATED **\n",
    " \n",
    " ** EXPLAIN THE SOLUTION ** \n",
    " \n",
    " ---\n"
   ]
  },
  {
   "cell_type": "code",
   "execution_count": 1,
   "metadata": {},
   "outputs": [],
   "source": [
    "def main_original(n, delta, T): \n",
    "    \"\"\" \n",
    "    n: is the number of uniformly at random generated points in the unit square \n",
    "    delta: a maximal move of a point in one of four random directions: left, right, up, or down \n",
    "    T: number of iterations\n",
    "    return: \n",
    "    lst_of_min_distances: of the minimum distances among all n points over times: t=0, 1, 2, \\dots, T - 1,\n",
    "    it is a list of reals of length T\"\"\""
   ]
  },
  {
   "cell_type": "markdown",
   "metadata": {},
   "source": [
    "---\n",
    "\n",
    "#### The optimized code description: \n",
    "\n",
    "** TO BE POPULATED **\n",
    "\n",
    "** EXPLAIN THE SOLUTION ** \n",
    "\n",
    " ---\n",
    " "
   ]
  },
  {
   "cell_type": "code",
   "execution_count": 2,
   "metadata": {},
   "outputs": [],
   "source": [
    "def main_optimized(n, delta, T): \n",
    "    \"\"\" \n",
    "    n: is the number of uniformly at random generated points in the unit square \n",
    "    delta: a maximal move of a point in one of four random directions: left, right, up, or down \n",
    "    T: number of iterations\n",
    "    return: \n",
    "    lst_of_min_distances: of the minimum distances among all n points over times: t=0, 1, 2, \\dots, T - 1,\n",
    "    it is a list of reals of length T\"\"\""
   ]
  }
 ],
 "metadata": {
  "colab": {
   "provenance": []
  },
  "kernelspec": {
   "display_name": "Python 3 (ipykernel)",
   "language": "python",
   "name": "python3"
  },
  "language_info": {
   "codemirror_mode": {
    "name": "ipython",
    "version": 3
   },
   "file_extension": ".py",
   "mimetype": "text/x-python",
   "name": "python",
   "nbconvert_exporter": "python",
   "pygments_lexer": "ipython3",
   "version": "3.11.5"
  }
 },
 "nbformat": 4,
 "nbformat_minor": 1
}
