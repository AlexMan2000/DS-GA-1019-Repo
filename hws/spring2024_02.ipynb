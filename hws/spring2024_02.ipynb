{
 "cells": [
  {
   "cell_type": "markdown",
   "metadata": {},
   "source": [
    "**Advanced Python for Data Science**  \n",
    "**DS-GA 1019**\n",
    "\n",
    "\n",
    "## Homework Assignment 02  \n",
    "**Due date: Feb 7, 2024, 4:00PM**  "
   ]
  },
  {
   "cell_type": "markdown",
   "metadata": {},
   "source": [
    "### Instructions for submitting solutions for assignment 2: \n",
    "\n",
    "- Please submit only one zip file to NYU Classes, which contains **all your python solutions** and **one pdf file** with all of your answers.  \n",
    "\n",
    "- The submitted zip-file name should be as **\"spring2024_sol02_*nyuid*.zip\"**  \n",
    "\n",
    "\n",
    "- **e.g.** If your nyuid is \"ab1234\", the submission is \"spring2024_sol02_ab1234.zip\"  \n",
    "\n",
    "\n",
    "\n"
   ]
  },
  {
   "cell_type": "markdown",
   "metadata": {},
   "source": [
    "# Problem 1. (30pt)\n",
    "\n",
    "Write a function f(n) to calculate the number of ways of representing $n$ as a sum of 1, 2, and 5, where the order of summands is important. For example: \n",
    "\n",
    "---\n",
    "\n",
    "n = 1  \n",
    "1 = 1  \n",
    "f(1) = 1  \n",
    "\n",
    "---\n",
    "\n",
    "n = 2  \n",
    "2 = 1 + 1  \n",
    "2 = 2  \n",
    "f(2) = 2  \n",
    "\n",
    "---\n",
    "\n",
    "n = 3  \n",
    "3 = 1 + 1 + 1  \n",
    "3 = 1 + 2  \n",
    "3 = 2 + 1  \n",
    "f(3) = 3 \n",
    "\n",
    "---\n",
    "\n",
    "n = 5  \n",
    "5 = 1 + 1 + 1 + 1 + 1  \n",
    "5 = 1 + 1 + 1 + 2  \n",
    "5 = 1 + 1 + 2 + 1  \n",
    "5 = 1 + 2 + 1 + 1  \n",
    "5 = 2 + 1 + 1 + 1  \n",
    "5 = 2 + 2 + 1  \n",
    "5 = 2 + 1 + 2  \n",
    "5 = 1 + 2 + 2  \n",
    "5 = 5  \n",
    "f(5) = 9\n",
    "\n",
    "---\n",
    "\n",
    "(10pt) Write a recursive solution f_rec() without memoization and time it for $n=10, 25$.  \n",
    "\n",
    "(10pt) Write a recursive solution with memoization or a wrapper function f_memo() and time it for $n=10, 25, 50, 100$.  \n",
    "\n",
    "(10pt) Write an iterative solution f_it() and time it for $n=10, 25, 50, 100$.  \n",
    "\n"
   ]
  },
  {
   "cell_type": "code",
   "execution_count": 28,
   "metadata": {},
   "outputs": [
    {
     "name": "stdout",
     "output_type": "stream",
     "text": [
      "4.03 µs ± 371 ns per loop (mean ± std. dev. of 7 runs, 10 loops each)\n",
      "3.82 µs ± 125 ns per loop (mean ± std. dev. of 7 runs, 25 loops each)\n"
     ]
    }
   ],
   "source": [
    "def f_rec(n):\n",
    "    \n",
    "    if n < 0:\n",
    "        return None\n",
    "    \n",
    "    if n == 0:\n",
    "        return 1\n",
    "    \n",
    "    res = 0\n",
    "    for i in [1,2,5]:\n",
    "        tmp = f_rec(n - i)\n",
    "        if tmp is None:\n",
    "            continue\n",
    "\n",
    "        res += tmp\n",
    "\n",
    "    return res\n",
    "        \n",
    "%timeit -r 7 -n 10 f_rec(5)\n",
    "%timeit -r 7 -n 25 f_rec(5)"
   ]
  },
  {
   "cell_type": "code",
   "execution_count": 29,
   "metadata": {},
   "outputs": [
    {
     "name": "stdout",
     "output_type": "stream",
     "text": [
      "1.27 µs ± 117 ns per loop (mean ± std. dev. of 7 runs, 10 loops each)\n",
      "1.29 µs ± 42.2 ns per loop (mean ± std. dev. of 7 runs, 25 loops each)\n",
      "1.25 µs ± 65.6 ns per loop (mean ± std. dev. of 7 runs, 50 loops each)\n",
      "1.57 µs ± 184 ns per loop (mean ± std. dev. of 7 runs, 100 loops each)\n"
     ]
    }
   ],
   "source": [
    "def f_memo(n,memo={}):\n",
    "    if n < 0:\n",
    "        return None\n",
    "\n",
    "    if n == 0:\n",
    "        memo[n] = 1\n",
    "        return 1\n",
    "\n",
    "    res = 0\n",
    "    for i in [1,2,5]:\n",
    "        if i in memo:\n",
    "            res += memo[i]\n",
    "        tmp = f_memo(n - i, memo)\n",
    "        \n",
    "        if tmp is None:\n",
    "            continue\n",
    "\n",
    "        memo[i] = tmp\n",
    "        res += tmp\n",
    "\n",
    "        return res\n",
    "\n",
    "%timeit -r 7 -n 10 f_memo(5)\n",
    "%timeit -r 7 -n 25 f_memo(5)\n",
    "%timeit -r 7 -n 50 f_memo(5)\n",
    "%timeit -r 7 -n 100 f_memo(5)"
   ]
  },
  {
   "cell_type": "code",
   "execution_count": 43,
   "metadata": {},
   "outputs": [
    {
     "name": "stdout",
     "output_type": "stream",
     "text": [
      "1.66 µs ± 147 ns per loop (mean ± std. dev. of 7 runs, 10 loops each)\n",
      "1.62 µs ± 74.7 ns per loop (mean ± std. dev. of 7 runs, 25 loops each)\n",
      "1.79 µs ± 159 ns per loop (mean ± std. dev. of 7 runs, 50 loops each)\n",
      "2.1 µs ± 52.4 ns per loop (mean ± std. dev. of 7 runs, 100 loops each)\n"
     ]
    }
   ],
   "source": [
    "# We will use dynamic programming\n",
    "def f_it(n):\n",
    "    \n",
    "    if n < 0:\n",
    "        return None\n",
    "    \n",
    "    dp = [0] * (n + 1)\n",
    "    \n",
    "    dp[0] = 1\n",
    "\n",
    "    for i in range(1, n + 1):\n",
    "        for j in [1, 2, 5]:\n",
    "            if i - j >= 0:\n",
    "                dp[i] += dp[i - j]\n",
    "\n",
    "\n",
    "    return dp[n]\n",
    "\n",
    "%timeit -r 7 -n 10 f_memo(5)\n",
    "%timeit -r 7 -n 25 f_memo(5)\n",
    "%timeit -r 7 -n 50 f_memo(5)\n",
    "%timeit -r 7 -n 100 f_memo(5)"
   ]
  },
  {
   "cell_type": "markdown",
   "metadata": {},
   "source": [
    "# Problem 2. (70%)\n",
    "\n",
    "An astrophysicist colleague was recently complaining about how long it was taking to run an N-body simulation. “It’s really just a simple calculation, and I’m only simulating four planets, but it takes nearly a minute and a half to run one simulation. I really need it done in under 30 seconds.” You kindly offer to take a look at code to see if it is possible to speed it up. Your colleague provides you with a link to the source: https://nyu-cds.github.io/courses/code/nbody.py\n",
    "\n",
    "\n",
    "Although your colleague said the code was simple, it is still fairly complex, so you decide to tackle the problem in stages. A first scan of the code reveals a number of potential areas that could be improved. These include:\n",
    "\n",
    "- Reducing function call overhead\n",
    "\n",
    "- Using alternatives to membership testing of lists \n",
    "\n",
    "- Using local rather than global variables \n",
    "\n",
    "- Using data aggregation to reduce loop overheads.\n",
    "\n",
    "As you’re a cautious programmer, you decide to address each of these in turn. This will ensure that it is possible to check the program is still working correctly after each change, and to assess the performance improvement that the change achieved. You are also aware that the program has to be maintained by others in the future, so you want to make sure that the changes do not make this more difficult, especially if the performance improvement is only minor.\n",
    "\n",
    "For each of these areas, create a new version of nbody.py, call them nbody_1.py, nbody_2.py, nbody_3.py, nbody_4.py. Finally, create another file called nbody_opt.py that contains all of the optimizations you made. \n",
    "\n",
    "\n",
    "Finally, generate a .pdf file with the four logs produced by the command in shell:\n",
    "\n",
    "for f in nbody_*.py; do python -m cProfile -s cumulative $f; done\n",
    "\n",
    "How much speedup do you get (time_original/time_optimized)?\n",
    "\n"
   ]
  },
  {
   "cell_type": "code",
   "execution_count": 1,
   "metadata": {},
   "outputs": [
    {
     "name": "stdout",
     "output_type": "stream",
     "text": [
      "34.3 ns ± 10.5 ns per loop (mean ± std. dev. of 7 runs, 10 loops each)\n",
      "70 ns ± 24.5 ns per loop (mean ± std. dev. of 7 runs, 10 loops each)\n"
     ]
    }
   ],
   "source": [
    "dist = {\"sun\":2, \"moon\":3}\n",
    "%timeit -r 7 -n 10 \"sun\" in dist\n",
    "%timeit -r 7 -n 10 \"sun\" in dist.keys()"
   ]
  },
  {
   "cell_type": "code",
   "execution_count": 3,
   "metadata": {},
   "outputs": [
    {
     "data": {
      "text/plain": [
       "dict_keys"
      ]
     },
     "execution_count": 3,
     "metadata": {},
     "output_type": "execute_result"
    }
   ],
   "source": [
    "type(dist.keys())"
   ]
  },
  {
   "cell_type": "code",
   "execution_count": 4,
   "metadata": {},
   "outputs": [
    {
     "data": {
      "text/plain": [
       "set"
      ]
     },
     "execution_count": 4,
     "metadata": {},
     "output_type": "execute_result"
    }
   ],
   "source": [
    "type(set())"
   ]
  },
  {
   "cell_type": "markdown",
   "metadata": {},
   "source": [
    "# Final Version of Optimization:\n",
    "Original time: 65.673s\n",
    "Optimized time: 25.678s\n",
    "Speedup = 65/25 = 2.6"
   ]
  }
 ],
 "metadata": {
  "kernelspec": {
   "display_name": "Python 3 (ipykernel)",
   "language": "python",
   "name": "python3"
  },
  "language_info": {
   "codemirror_mode": {
    "name": "ipython",
    "version": 3
   },
   "file_extension": ".py",
   "mimetype": "text/x-python",
   "name": "python",
   "nbconvert_exporter": "python",
   "pygments_lexer": "ipython3",
   "version": "3.10.9"
  }
 },
 "nbformat": 4,
 "nbformat_minor": 2
}
